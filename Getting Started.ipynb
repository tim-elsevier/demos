{
 "cells": [
  {
   "cell_type": "markdown",
   "metadata": {},
   "source": [
    "# Getting Started\n",
    "This notebook uses some utility classes to examine the data in the workbench"
   ]
  },
  {
   "cell_type": "code",
   "execution_count": 21,
   "metadata": {},
   "outputs": [],
   "source": [
    "#Imports\n",
    "import spark_session_builder\n",
    "from PWBdata import PWBdata\n",
    "import ipywidgets as widgets"
   ]
  },
  {
   "cell_type": "code",
   "execution_count": 22,
   "metadata": {},
   "outputs": [
    {
     "data": {
      "text/html": [
       "\n",
       "        <div>\n",
       "            <p><b>SparkContext</b></p>\n",
       "\n",
       "            <p><a href=\"http://jupyter-96b4f737-2d8a40-2d4c1a-2dbf61-2da4cda8c6de6b:4040\">Spark UI</a></p>\n",
       "\n",
       "            <dl>\n",
       "              <dt>Version</dt>\n",
       "                <dd><code>v3.0.0</code></dd>\n",
       "              <dt>Master</dt>\n",
       "                <dd><code>local[*]</code></dd>\n",
       "              <dt>AppName</dt>\n",
       "                <dd><code>testing</code></dd>\n",
       "            </dl>\n",
       "        </div>\n",
       "        "
      ],
      "text/plain": [
       "<SparkContext master=local[*] appName=testing>"
      ]
     },
     "execution_count": 22,
     "metadata": {},
     "output_type": "execute_result"
    }
   ],
   "source": [
    "# Create a sparksession and sparkcontext\n",
    "sparkSession, sc = spark_session_builder.session()\n",
    "sc"
   ]
  },
  {
   "cell_type": "code",
   "execution_count": 23,
   "metadata": {},
   "outputs": [],
   "source": [
    "#  PATH TO THE DATA\n",
    "#  HDFS browser is at https://hdfs-ui.demo-full-load.shared1.nonprod.entellect.com/explorer.html#/test\n",
    "hdfs_path = \"hdfs://demo-full-load-hdfs-namenode:8020\" "
   ]
  },
  {
   "cell_type": "markdown",
   "metadata": {},
   "source": [
    "### The PWB class wraps the tables in RWB"
   ]
  },
  {
   "cell_type": "code",
   "execution_count": 24,
   "metadata": {},
   "outputs": [
    {
     "data": {
      "text/plain": [
       "['chembl_data_path',\n",
       " 'chembl_files',\n",
       " 'get_dataframe',\n",
       " 'get_table_list',\n",
       " 'hdfs_path',\n",
       " 'pp_data_path',\n",
       " 'pp_files',\n",
       " 'resnet_data_path',\n",
       " 'resnet_files',\n",
       " 'rmc_data_path',\n",
       " 'rmc_files']"
      ]
     },
     "execution_count": 24,
     "metadata": {},
     "output_type": "execute_result"
    }
   ],
   "source": [
    "pwb = PWBdata(hdfs_path)\n",
    "[x for x in dir(pwb) if not x.startswith('__')]"
   ]
  },
  {
   "cell_type": "markdown",
   "metadata": {},
   "source": [
    "## Pharmapendium data"
   ]
  },
  {
   "cell_type": "markdown",
   "metadata": {},
   "source": [
    "![Pharmapendium schema](Pharmapendium.PNG)"
   ]
  },
  {
   "cell_type": "code",
   "execution_count": 25,
   "metadata": {},
   "outputs": [],
   "source": [
    "from IPython.core.display import HTML\n",
    "\n",
    "\n",
    "def show_top(df, records=10):\n",
    "    \"\"\"\n",
    "    display the top n records in a table\n",
    "    \"\"\"\n",
    "    display(HTML(df.limit(records).toPandas().to_html(escape=False)))"
   ]
  },
  {
   "cell_type": "code",
   "execution_count": 41,
   "metadata": {},
   "outputs": [
    {
     "data": {
      "application/vnd.jupyter.widget-view+json": {
       "model_id": "19fc1ecbb5524adf9d2301031be21b0d",
       "version_major": 2,
       "version_minor": 0
      },
      "text/plain": [
       "Dropdown(description='Pharmapendium Tables:', options=('Activitytarget', 'Activitytargetextended', 'Activityta…"
      ]
     },
     "metadata": {},
     "output_type": "display_data"
    }
   ],
   "source": [
    "pp_tbls = pwb.get_table_list('pp')\n",
    "pp_w = widgets.Dropdown(\n",
    "    options=[x['name'] for x in pp_tbls],\n",
    "    description='Pharmapendium Tables:',\n",
    "    disabled=False,\n",
    ")\n",
    "\n",
    "display(pp_w)"
   ]
  },
  {
   "cell_type": "code",
   "execution_count": 42,
   "metadata": {},
   "outputs": [
    {
     "name": "stdout",
     "output_type": "stream",
     "text": [
      "Activitytarget\n"
     ]
    },
    {
     "data": {
      "text/html": [
       "<table border=\"1\" class=\"dataframe\">\n",
       "  <thead>\n",
       "    <tr style=\"text-align: right;\">\n",
       "      <th></th>\n",
       "      <th>hdfsIngestTime</th>\n",
       "      <th>offset</th>\n",
       "      <th>ActivityTarget</th>\n",
       "      <th>core_relatedMatch</th>\n",
       "      <th>core_closeMatch</th>\n",
       "      <th>core_changeNote</th>\n",
       "      <th>core_prefLabel</th>\n",
       "      <th>core_scopeNote</th>\n",
       "      <th>core_broadMatch</th>\n",
       "      <th>skos_xl_prefLabel</th>\n",
       "      <th>core_inScheme</th>\n",
       "      <th>core_hiddenLabel</th>\n",
       "      <th>core_altLabel</th>\n",
       "      <th>core_exactMatch</th>\n",
       "      <th>isLeaf</th>\n",
       "      <th>core_broader</th>\n",
       "      <th>core_narrower</th>\n",
       "      <th>core_topConceptOf</th>\n",
       "      <th>skos_xl_hiddenLabel</th>\n",
       "      <th>skos_xl_altLabel</th>\n",
       "      <th>core_related</th>\n",
       "      <th>core_editorialNote</th>\n",
       "      <th>core_example</th>\n",
       "      <th>core_definition</th>\n",
       "      <th>core_note</th>\n",
       "      <th>provenanceJob</th>\n",
       "    </tr>\n",
       "  </thead>\n",
       "  <tbody>\n",
       "    <tr>\n",
       "      <th>0</th>\n",
       "      <td>2020-07-21T09:13:49.868768</td>\n",
       "      <td>94</td>\n",
       "      <td>https://data.elsevier.com/lifescience/taxonomy/ppplus/activitytarget/-ucvKv_6u5D</td>\n",
       "      <td>None</td>\n",
       "      <td>None</td>\n",
       "      <td>None</td>\n",
       "      <td>Alpha Adrenoceptors</td>\n",
       "      <td>None</td>\n",
       "      <td>None</td>\n",
       "      <td>None</td>\n",
       "      <td>https://data.elsevier.com/lifescience/taxonomy/ppplus/activitytarget/ActivityTargetScheme</td>\n",
       "      <td>None</td>\n",
       "      <td>None</td>\n",
       "      <td>None</td>\n",
       "      <td>false</td>\n",
       "      <td>https://data.elsevier.com/lifescience/taxonomy/ppplus/activitytarget/wm0OEo6PEvB</td>\n",
       "      <td>None</td>\n",
       "      <td>None</td>\n",
       "      <td>None</td>\n",
       "      <td>None</td>\n",
       "      <td>None</td>\n",
       "      <td>None</td>\n",
       "      <td>None</td>\n",
       "      <td>None</td>\n",
       "      <td>None</td>\n",
       "      <td>2b8f26b4-298a-4031-9af2-1de3e7b34cb4</td>\n",
       "    </tr>\n",
       "    <tr>\n",
       "      <th>1</th>\n",
       "      <td>2020-07-21T09:13:52.872806</td>\n",
       "      <td>116</td>\n",
       "      <td>https://data.elsevier.com/lifescience/taxonomy/ppplus/activitytarget/21rhw2G40v9</td>\n",
       "      <td>None</td>\n",
       "      <td>None</td>\n",
       "      <td>None</td>\n",
       "      <td>Voltage-Gated Sodium Channel  TTX-Sensitive</td>\n",
       "      <td>None</td>\n",
       "      <td>None</td>\n",
       "      <td>None</td>\n",
       "      <td>https://data.elsevier.com/lifescience/taxonomy/ppplus/activitytarget/ActivityTargetScheme</td>\n",
       "      <td>None</td>\n",
       "      <td>None</td>\n",
       "      <td>None</td>\n",
       "      <td>true</td>\n",
       "      <td>https://data.elsevier.com/lifescience/taxonomy/ppplus/activitytarget/ecCQT1PXpHF</td>\n",
       "      <td>None</td>\n",
       "      <td>None</td>\n",
       "      <td>None</td>\n",
       "      <td>None</td>\n",
       "      <td>None</td>\n",
       "      <td>None</td>\n",
       "      <td>None</td>\n",
       "      <td>None</td>\n",
       "      <td>None</td>\n",
       "      <td>2b8f26b4-298a-4031-9af2-1de3e7b34cb4</td>\n",
       "    </tr>\n",
       "    <tr>\n",
       "      <th>2</th>\n",
       "      <td>2020-07-21T09:13:46.372271</td>\n",
       "      <td>127</td>\n",
       "      <td>https://data.elsevier.com/lifescience/taxonomy/ppplus/activitytarget/46StCDpmpSH</td>\n",
       "      <td>None</td>\n",
       "      <td>None</td>\n",
       "      <td>None</td>\n",
       "      <td>Phosphodiesterase 4A1</td>\n",
       "      <td>None</td>\n",
       "      <td>None</td>\n",
       "      <td>None</td>\n",
       "      <td>https://data.elsevier.com/lifescience/taxonomy/ppplus/activitytarget/ActivityTargetScheme</td>\n",
       "      <td>None</td>\n",
       "      <td>None</td>\n",
       "      <td>None</td>\n",
       "      <td>true</td>\n",
       "      <td>https://data.elsevier.com/lifescience/taxonomy/ppplus/activitytarget/Zzo3DCLzO2-</td>\n",
       "      <td>None</td>\n",
       "      <td>None</td>\n",
       "      <td>None</td>\n",
       "      <td>None</td>\n",
       "      <td>None</td>\n",
       "      <td>None</td>\n",
       "      <td>None</td>\n",
       "      <td>None</td>\n",
       "      <td>None</td>\n",
       "      <td>2b8f26b4-298a-4031-9af2-1de3e7b34cb4</td>\n",
       "    </tr>\n",
       "    <tr>\n",
       "      <th>3</th>\n",
       "      <td>2020-07-21T09:13:50.667433</td>\n",
       "      <td>114</td>\n",
       "      <td>https://data.elsevier.com/lifescience/taxonomy/ppplus/activitytarget/6qN6qID6kG9</td>\n",
       "      <td>None</td>\n",
       "      <td>None</td>\n",
       "      <td>None</td>\n",
       "      <td>5'-AMP-Activated protein kinase subunit beta-1</td>\n",
       "      <td>None</td>\n",
       "      <td>None</td>\n",
       "      <td>None</td>\n",
       "      <td>https://data.elsevier.com/lifescience/taxonomy/ppplus/activitytarget/ActivityTargetScheme</td>\n",
       "      <td>None</td>\n",
       "      <td>None</td>\n",
       "      <td>None</td>\n",
       "      <td>true</td>\n",
       "      <td>https://data.elsevier.com/lifescience/taxonomy/ppplus/activitytarget/-NmHwTiDfcG</td>\n",
       "      <td>None</td>\n",
       "      <td>None</td>\n",
       "      <td>None</td>\n",
       "      <td>None</td>\n",
       "      <td>None</td>\n",
       "      <td>None</td>\n",
       "      <td>None</td>\n",
       "      <td>None</td>\n",
       "      <td>None</td>\n",
       "      <td>2b8f26b4-298a-4031-9af2-1de3e7b34cb4</td>\n",
       "    </tr>\n",
       "    <tr>\n",
       "      <th>4</th>\n",
       "      <td>2020-07-21T09:13:48.483249</td>\n",
       "      <td>147</td>\n",
       "      <td>https://data.elsevier.com/lifescience/taxonomy/ppplus/activitytarget/6saDeTyJDVB</td>\n",
       "      <td>None</td>\n",
       "      <td>None</td>\n",
       "      <td>None</td>\n",
       "      <td>Carbonic Anhydrase IV</td>\n",
       "      <td>None</td>\n",
       "      <td>None</td>\n",
       "      <td>None</td>\n",
       "      <td>https://data.elsevier.com/lifescience/taxonomy/ppplus/activitytarget/ActivityTargetScheme</td>\n",
       "      <td>None</td>\n",
       "      <td>None</td>\n",
       "      <td>None</td>\n",
       "      <td>true</td>\n",
       "      <td>https://data.elsevier.com/lifescience/taxonomy/ppplus/activitytarget/WsvL9Z2KdQ5</td>\n",
       "      <td>None</td>\n",
       "      <td>None</td>\n",
       "      <td>None</td>\n",
       "      <td>None</td>\n",
       "      <td>None</td>\n",
       "      <td>None</td>\n",
       "      <td>None</td>\n",
       "      <td>None</td>\n",
       "      <td>None</td>\n",
       "      <td>2b8f26b4-298a-4031-9af2-1de3e7b34cb4</td>\n",
       "    </tr>\n",
       "  </tbody>\n",
       "</table>"
      ],
      "text/plain": [
       "<IPython.core.display.HTML object>"
      ]
     },
     "metadata": {},
     "output_type": "display_data"
    }
   ],
   "source": [
    "print (pp_w.value)\n",
    "pp_df = pwb.get_dataframe(sparkSession, 'pp', pp_w.value)\n",
    "show_top(pp_df, 5)"
   ]
  },
  {
   "cell_type": "markdown",
   "metadata": {},
   "source": [
    "## RMC Data"
   ]
  },
  {
   "cell_type": "markdown",
   "metadata": {},
   "source": [
    "![RMC Schema](RMC.PNG)"
   ]
  },
  {
   "cell_type": "code",
   "execution_count": 43,
   "metadata": {},
   "outputs": [
    {
     "data": {
      "application/vnd.jupyter.widget-view+json": {
       "model_id": "00136511c19c4a50952b186f3a1fcfc0",
       "version_major": 2,
       "version_minor": 0
      },
      "text/plain": [
       "Dropdown(description='RMC Tables:', options=('Activitysite', 'Administrationroute', 'Administrationtype', 'Aff…"
      ]
     },
     "metadata": {},
     "output_type": "display_data"
    }
   ],
   "source": [
    "rmc_tbls = pwb.get_table_list('rmc')\n",
    "rmc_w = widgets.Dropdown(\n",
    "    options=[x['name'] for x in rmc_tbls],\n",
    "    description='RMC Tables:',\n",
    "    disabled=False,\n",
    ")\n",
    "\n",
    "display(rmc_w)"
   ]
  },
  {
   "cell_type": "code",
   "execution_count": 44,
   "metadata": {},
   "outputs": [
    {
     "name": "stdout",
     "output_type": "stream",
     "text": [
      "Analyticaltechnique\n"
     ]
    },
    {
     "data": {
      "text/html": [
       "<table border=\"1\" class=\"dataframe\">\n",
       "  <thead>\n",
       "    <tr style=\"text-align: right;\">\n",
       "      <th></th>\n",
       "      <th>hdfsIngestTime</th>\n",
       "      <th>offset</th>\n",
       "      <th>AnalyticalTechnique</th>\n",
       "      <th>hasOtherInfo</th>\n",
       "      <th>hasCreationDate</th>\n",
       "      <th>hasStatus</th>\n",
       "      <th>hasLabel</th>\n",
       "      <th>hasUpdateDate</th>\n",
       "      <th>provenanceJob</th>\n",
       "    </tr>\n",
       "  </thead>\n",
       "  <tbody>\n",
       "    <tr>\n",
       "      <th>0</th>\n",
       "      <td>2020-07-13T13:15:18.178756</td>\n",
       "      <td>1315</td>\n",
       "      <td>https://data.elsevier.com/lifescience/entity/reaxys/analyticaltechnique/10107</td>\n",
       "      <td>None</td>\n",
       "      <td>2018-02-16 05:21:28</td>\n",
       "      <td>N</td>\n",
       "      <td>Collagen morphometry</td>\n",
       "      <td>None</td>\n",
       "      <td>None</td>\n",
       "    </tr>\n",
       "    <tr>\n",
       "      <th>1</th>\n",
       "      <td>2020-07-13T13:15:28.399548</td>\n",
       "      <td>30</td>\n",
       "      <td>https://data.elsevier.com/lifescience/entity/reaxys/analyticaltechnique/10158</td>\n",
       "      <td>None</td>\n",
       "      <td>2018-02-21 02:03:50</td>\n",
       "      <td>N</td>\n",
       "      <td>whole-body fluorescence imaging</td>\n",
       "      <td>None</td>\n",
       "      <td>None</td>\n",
       "    </tr>\n",
       "    <tr>\n",
       "      <th>2</th>\n",
       "      <td>2020-07-13T13:14:57.659112</td>\n",
       "      <td>269</td>\n",
       "      <td>https://data.elsevier.com/lifescience/entity/reaxys/analyticaltechnique/10419</td>\n",
       "      <td>None</td>\n",
       "      <td>2018-03-08 23:47:46</td>\n",
       "      <td>N</td>\n",
       "      <td>Blinded Observation: Caliper + Hematoxylin-eosin staining method</td>\n",
       "      <td>None</td>\n",
       "      <td>None</td>\n",
       "    </tr>\n",
       "    <tr>\n",
       "      <th>3</th>\n",
       "      <td>2020-07-13T13:14:52.492911</td>\n",
       "      <td>1322</td>\n",
       "      <td>https://data.elsevier.com/lifescience/entity/reaxys/analyticaltechnique/10700</td>\n",
       "      <td>None</td>\n",
       "      <td>2018-03-27 01:17:37</td>\n",
       "      <td>N</td>\n",
       "      <td>Radio-TLC</td>\n",
       "      <td>None</td>\n",
       "      <td>None</td>\n",
       "    </tr>\n",
       "    <tr>\n",
       "      <th>4</th>\n",
       "      <td>2020-07-13T13:15:41.46678</td>\n",
       "      <td>1511</td>\n",
       "      <td>https://data.elsevier.com/lifescience/entity/reaxys/analyticaltechnique/110</td>\n",
       "      <td>None</td>\n",
       "      <td>2013-12-10 12:31:48</td>\n",
       "      <td>A</td>\n",
       "      <td>Trypan blue exclusion staining method</td>\n",
       "      <td>None</td>\n",
       "      <td>None</td>\n",
       "    </tr>\n",
       "  </tbody>\n",
       "</table>"
      ],
      "text/plain": [
       "<IPython.core.display.HTML object>"
      ]
     },
     "metadata": {},
     "output_type": "display_data"
    }
   ],
   "source": [
    "print (rmc_w.value)\n",
    "rmc_df = pwb.get_dataframe(sparkSession, 'rmc', rmc_w.value)\n",
    "show_top(rmc_df, 5)"
   ]
  },
  {
   "cell_type": "markdown",
   "metadata": {},
   "source": [
    "## Resnet data"
   ]
  },
  {
   "cell_type": "markdown",
   "metadata": {},
   "source": [
    "![Resnet Schema](Resnet.PNG)"
   ]
  },
  {
   "cell_type": "code",
   "execution_count": 45,
   "metadata": {},
   "outputs": [
    {
     "data": {
      "application/vnd.jupyter.widget-view+json": {
       "model_id": "0f424dafd7a94245901f4f4031056de8",
       "version_major": 2,
       "version_minor": 0
      },
      "text/plain": [
       "Dropdown(description='Resnet Tables:', options=('Annotation', 'Binding', 'Biomarker', 'Cellexpression', 'Cello…"
      ]
     },
     "metadata": {},
     "output_type": "display_data"
    }
   ],
   "source": [
    "resnet_tbls = pwb.get_table_list('resnet')\n",
    "resnet_w = widgets.Dropdown(\n",
    "    options=[x['name'] for x in resnet_tbls],\n",
    "    description='Resnet Tables:',\n",
    "    disabled=False,\n",
    ")\n",
    "\n",
    "display(resnet_w)"
   ]
  },
  {
   "cell_type": "code",
   "execution_count": 46,
   "metadata": {},
   "outputs": [
    {
     "name": "stdout",
     "output_type": "stream",
     "text": [
      "Annotation\n"
     ]
    },
    {
     "data": {
      "text/html": [
       "<table border=\"1\" class=\"dataframe\">\n",
       "  <thead>\n",
       "    <tr style=\"text-align: right;\">\n",
       "      <th></th>\n",
       "      <th>hdfsIngestTime</th>\n",
       "      <th>offset</th>\n",
       "      <th>AnalyticalTechnique</th>\n",
       "      <th>hasOtherInfo</th>\n",
       "      <th>hasCreationDate</th>\n",
       "      <th>hasStatus</th>\n",
       "      <th>hasLabel</th>\n",
       "      <th>hasUpdateDate</th>\n",
       "      <th>provenanceJob</th>\n",
       "    </tr>\n",
       "  </thead>\n",
       "  <tbody>\n",
       "    <tr>\n",
       "      <th>0</th>\n",
       "      <td>2020-07-13T13:15:18.178756</td>\n",
       "      <td>1315</td>\n",
       "      <td>https://data.elsevier.com/lifescience/entity/reaxys/analyticaltechnique/10107</td>\n",
       "      <td>None</td>\n",
       "      <td>2018-02-16 05:21:28</td>\n",
       "      <td>N</td>\n",
       "      <td>Collagen morphometry</td>\n",
       "      <td>None</td>\n",
       "      <td>None</td>\n",
       "    </tr>\n",
       "    <tr>\n",
       "      <th>1</th>\n",
       "      <td>2020-07-13T13:15:28.399548</td>\n",
       "      <td>30</td>\n",
       "      <td>https://data.elsevier.com/lifescience/entity/reaxys/analyticaltechnique/10158</td>\n",
       "      <td>None</td>\n",
       "      <td>2018-02-21 02:03:50</td>\n",
       "      <td>N</td>\n",
       "      <td>whole-body fluorescence imaging</td>\n",
       "      <td>None</td>\n",
       "      <td>None</td>\n",
       "    </tr>\n",
       "    <tr>\n",
       "      <th>2</th>\n",
       "      <td>2020-07-13T13:14:57.659112</td>\n",
       "      <td>269</td>\n",
       "      <td>https://data.elsevier.com/lifescience/entity/reaxys/analyticaltechnique/10419</td>\n",
       "      <td>None</td>\n",
       "      <td>2018-03-08 23:47:46</td>\n",
       "      <td>N</td>\n",
       "      <td>Blinded Observation: Caliper + Hematoxylin-eosin staining method</td>\n",
       "      <td>None</td>\n",
       "      <td>None</td>\n",
       "    </tr>\n",
       "    <tr>\n",
       "      <th>3</th>\n",
       "      <td>2020-07-13T13:14:52.492911</td>\n",
       "      <td>1322</td>\n",
       "      <td>https://data.elsevier.com/lifescience/entity/reaxys/analyticaltechnique/10700</td>\n",
       "      <td>None</td>\n",
       "      <td>2018-03-27 01:17:37</td>\n",
       "      <td>N</td>\n",
       "      <td>Radio-TLC</td>\n",
       "      <td>None</td>\n",
       "      <td>None</td>\n",
       "    </tr>\n",
       "    <tr>\n",
       "      <th>4</th>\n",
       "      <td>2020-07-13T13:15:41.46678</td>\n",
       "      <td>1511</td>\n",
       "      <td>https://data.elsevier.com/lifescience/entity/reaxys/analyticaltechnique/110</td>\n",
       "      <td>None</td>\n",
       "      <td>2013-12-10 12:31:48</td>\n",
       "      <td>A</td>\n",
       "      <td>Trypan blue exclusion staining method</td>\n",
       "      <td>None</td>\n",
       "      <td>None</td>\n",
       "    </tr>\n",
       "  </tbody>\n",
       "</table>"
      ],
      "text/plain": [
       "<IPython.core.display.HTML object>"
      ]
     },
     "metadata": {},
     "output_type": "display_data"
    }
   ],
   "source": [
    "print (resnet_w.value)\n",
    "resnet_df = pwb.get_dataframe(sparkSession, 'resnet', resnet_w.value)\n",
    "show_top(rmc_df, 5)"
   ]
  },
  {
   "cell_type": "markdown",
   "metadata": {},
   "source": [
    "## ChEMBL Data"
   ]
  },
  {
   "cell_type": "markdown",
   "metadata": {},
   "source": [
    "![ChEMBL Schema](ChEMBL.PNG)"
   ]
  },
  {
   "cell_type": "code",
   "execution_count": 47,
   "metadata": {},
   "outputs": [
    {
     "data": {
      "application/vnd.jupyter.widget-view+json": {
       "model_id": "097477d272a2400daebfe697d18034ad",
       "version_major": 2,
       "version_minor": 0
      },
      "text/plain": [
       "Dropdown(description='ChEMBL Tables:', options=('Actiontype', 'Activity', 'Activityproperty', 'Activitysupport…"
      ]
     },
     "metadata": {},
     "output_type": "display_data"
    }
   ],
   "source": [
    "chembl_tbls = pwb.get_table_list('chembl')\n",
    "chembl_w = widgets.Dropdown(\n",
    "    options=[x['name'] for x in chembl_tbls],\n",
    "    description='ChEMBL Tables:',\n",
    "    disabled=False,\n",
    ")\n",
    "\n",
    "display(chembl_w)"
   ]
  },
  {
   "cell_type": "code",
   "execution_count": 49,
   "metadata": {},
   "outputs": [
    {
     "name": "stdout",
     "output_type": "stream",
     "text": [
      "Assayparameter\n"
     ]
    },
    {
     "data": {
      "text/html": [
       "<table border=\"1\" class=\"dataframe\">\n",
       "  <thead>\n",
       "    <tr style=\"text-align: right;\">\n",
       "      <th></th>\n",
       "      <th>hdfsIngestTime</th>\n",
       "      <th>offset</th>\n",
       "      <th>AssayParameter</th>\n",
       "      <th>parameterComments</th>\n",
       "      <th>parameterStandardUnits</th>\n",
       "      <th>parameterUnits</th>\n",
       "      <th>parameterValue</th>\n",
       "      <th>parameterTextValue</th>\n",
       "      <th>parameterStandardValue</th>\n",
       "      <th>hasRelationSymbol</th>\n",
       "      <th>parameterStandardType</th>\n",
       "      <th>parameterType</th>\n",
       "      <th>parameterStandardTextValue</th>\n",
       "      <th>hasStandardRelationSymbol</th>\n",
       "      <th>partOfAssay</th>\n",
       "      <th>provenanceJob</th>\n",
       "    </tr>\n",
       "  </thead>\n",
       "  <tbody>\n",
       "    <tr>\n",
       "      <th>0</th>\n",
       "      <td>2020-07-10T09:10:21.668351</td>\n",
       "      <td>17101</td>\n",
       "      <td>https://data.elsevier.com/lifescience/entity/chembl/assayparameter/3711328</td>\n",
       "      <td>None</td>\n",
       "      <td>uL/min</td>\n",
       "      <td>uL/min</td>\n",
       "      <td>100.0</td>\n",
       "      <td>None</td>\n",
       "      <td>100.0</td>\n",
       "      <td>=</td>\n",
       "      <td>sample_flow_rate</td>\n",
       "      <td>sample_flow_rate</td>\n",
       "      <td>None</td>\n",
       "      <td>=</td>\n",
       "      <td>https://data.elsevier.com/lifescience/entity/chembl/assay/1640177</td>\n",
       "      <td>None</td>\n",
       "    </tr>\n",
       "    <tr>\n",
       "      <th>1</th>\n",
       "      <td>2020-07-10T09:10:19.469768</td>\n",
       "      <td>17012</td>\n",
       "      <td>https://data.elsevier.com/lifescience/entity/chembl/assayparameter/3711517</td>\n",
       "      <td>None</td>\n",
       "      <td>s-1</td>\n",
       "      <td>s-1</td>\n",
       "      <td>2.66667E-4</td>\n",
       "      <td>None</td>\n",
       "      <td>2.667E-4</td>\n",
       "      <td>=</td>\n",
       "      <td>radioligand_koff</td>\n",
       "      <td>radioligand_koff</td>\n",
       "      <td>None</td>\n",
       "      <td>=</td>\n",
       "      <td>https://data.elsevier.com/lifescience/entity/chembl/assay/1640183</td>\n",
       "      <td>None</td>\n",
       "    </tr>\n",
       "    <tr>\n",
       "      <th>2</th>\n",
       "      <td>2020-07-10T09:10:22.487795</td>\n",
       "      <td>17102</td>\n",
       "      <td>https://data.elsevier.com/lifescience/entity/chembl/assayparameter/3712007</td>\n",
       "      <td>None</td>\n",
       "      <td>uL/min</td>\n",
       "      <td>uL/min</td>\n",
       "      <td>5.0</td>\n",
       "      <td>None</td>\n",
       "      <td>5.0</td>\n",
       "      <td>=</td>\n",
       "      <td>immobilization_flow_rate</td>\n",
       "      <td>immobilization_flow_rate</td>\n",
       "      <td>None</td>\n",
       "      <td>=</td>\n",
       "      <td>https://data.elsevier.com/lifescience/entity/chembl/assay/1640204</td>\n",
       "      <td>None</td>\n",
       "    </tr>\n",
       "    <tr>\n",
       "      <th>3</th>\n",
       "      <td>2020-07-10T09:09:52.373336</td>\n",
       "      <td>17239</td>\n",
       "      <td>https://data.elsevier.com/lifescience/entity/chembl/assayparameter/3712383</td>\n",
       "      <td>None</td>\n",
       "      <td>mg.kg-1</td>\n",
       "      <td>mg/kg</td>\n",
       "      <td>10.0</td>\n",
       "      <td>None</td>\n",
       "      <td>10.0</td>\n",
       "      <td>=</td>\n",
       "      <td>DOSE</td>\n",
       "      <td>DOSE</td>\n",
       "      <td>None</td>\n",
       "      <td>=</td>\n",
       "      <td>https://data.elsevier.com/lifescience/entity/chembl/assay/1055</td>\n",
       "      <td>None</td>\n",
       "    </tr>\n",
       "    <tr>\n",
       "      <th>4</th>\n",
       "      <td>2020-07-10T09:10:22.456137</td>\n",
       "      <td>17103</td>\n",
       "      <td>https://data.elsevier.com/lifescience/entity/chembl/assayparameter/3712607</td>\n",
       "      <td>None</td>\n",
       "      <td>mg.kg-1</td>\n",
       "      <td>mg/kg</td>\n",
       "      <td>400.0</td>\n",
       "      <td>None</td>\n",
       "      <td>400.0</td>\n",
       "      <td>=</td>\n",
       "      <td>DOSE</td>\n",
       "      <td>DOSE</td>\n",
       "      <td>None</td>\n",
       "      <td>=</td>\n",
       "      <td>https://data.elsevier.com/lifescience/entity/chembl/assay/4388</td>\n",
       "      <td>None</td>\n",
       "    </tr>\n",
       "  </tbody>\n",
       "</table>"
      ],
      "text/plain": [
       "<IPython.core.display.HTML object>"
      ]
     },
     "metadata": {},
     "output_type": "display_data"
    }
   ],
   "source": [
    "print (chembl_w.value)\n",
    "chembl_df = pwb.get_dataframe(sparkSession, 'chembl', chembl_w.value)\n",
    "show_top(chembl_df, 5)"
   ]
  },
  {
   "cell_type": "code",
   "execution_count": 50,
   "metadata": {},
   "outputs": [],
   "source": [
    "sc.stop()"
   ]
  },
  {
   "cell_type": "code",
   "execution_count": null,
   "metadata": {},
   "outputs": [],
   "source": []
  }
 ],
 "metadata": {
  "kernelspec": {
   "display_name": "Python 3",
   "language": "python",
   "name": "python3"
  },
  "language_info": {
   "codemirror_mode": {
    "name": "ipython",
    "version": 3
   },
   "file_extension": ".py",
   "mimetype": "text/x-python",
   "name": "python",
   "nbconvert_exporter": "python",
   "pygments_lexer": "ipython3",
   "version": "3.8.8"
  }
 },
 "nbformat": 4,
 "nbformat_minor": 4
}
