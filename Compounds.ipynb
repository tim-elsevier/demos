{
 "cells": [
  {
   "cell_type": "code",
   "execution_count": 1,
   "metadata": {},
   "outputs": [
    {
     "data": {
      "text/html": [
       "\n",
       "        <div>\n",
       "            <p><b>SparkContext</b></p>\n",
       "\n",
       "            <p><a href=\"http://jupyter-96b4f737-2d8a40-2d4c1a-2dbf61-2da4cda8c6de6b:4040\">Spark UI</a></p>\n",
       "\n",
       "            <dl>\n",
       "              <dt>Version</dt>\n",
       "                <dd><code>v3.0.0</code></dd>\n",
       "              <dt>Master</dt>\n",
       "                <dd><code>local[*]</code></dd>\n",
       "              <dt>AppName</dt>\n",
       "                <dd><code>testing</code></dd>\n",
       "            </dl>\n",
       "        </div>\n",
       "        "
      ],
      "text/plain": [
       "<SparkContext master=local[*] appName=testing>"
      ]
     },
     "execution_count": 1,
     "metadata": {},
     "output_type": "execute_result"
    }
   ],
   "source": [
    "# Set up spark\n",
    "import spark_session_builder\n",
    "import spark_session_builder\n",
    "\n",
    "sparkSession, sc = spark_session_builder.session()\n",
    "sc"
   ]
  },
  {
   "cell_type": "code",
   "execution_count": 2,
   "metadata": {},
   "outputs": [],
   "source": [
    "# Key imports\n",
    "\n",
    "from pyspark.sql.functions import col, split, explode\n",
    "import pyspark.sql.functions as f\n",
    "\n",
    "from PWBdata import PWBdata\n",
    "hdfs_path = \"hdfs://demo-full-load-hdfs-namenode:8020\""
   ]
  },
  {
   "cell_type": "markdown",
   "metadata": {},
   "source": [
    "## Load the Compounds Mapping File"
   ]
  },
  {
   "cell_type": "code",
   "execution_count": 3,
   "metadata": {},
   "outputs": [],
   "source": [
    "filename = 'compounds.csv' + '/*.snappy.parquet'\n",
    "df = sparkSession \\\n",
    "    .read \\\n",
    "    .option(\"header\", \"true\") \\\n",
    "    .parquet(filename)"
   ]
  },
  {
   "cell_type": "code",
   "execution_count": 4,
   "metadata": {},
   "outputs": [],
   "source": [
    "from IPython.core.display import HTML\n",
    "\n",
    "\n",
    "def show_top(df, records=10):\n",
    "    \"\"\"\n",
    "    display the top n records in a table\n",
    "    \"\"\"\n",
    "    display(HTML(df.limit(records).toPandas().to_html(escape=False)))"
   ]
  },
  {
   "cell_type": "markdown",
   "metadata": {},
   "source": [
    "## Query the Compounds data for a single drug"
   ]
  },
  {
   "cell_type": "code",
   "execution_count": 5,
   "metadata": {},
   "outputs": [
    {
     "data": {
      "text/html": [
       "<table border=\"1\" class=\"dataframe\">\n",
       "  <thead>\n",
       "    <tr style=\"text-align: right;\">\n",
       "      <th></th>\n",
       "      <th>CHEMBL_ID</th>\n",
       "      <th>fingerprint</th>\n",
       "      <th>reaxys_chemicalcompound</th>\n",
       "      <th>resnet_smallmol</th>\n",
       "      <th>pharmapendium_drug</th>\n",
       "      <th>Compound</th>\n",
       "      <th>hasPreferredMoleculeName</th>\n",
       "    </tr>\n",
       "  </thead>\n",
       "  <tbody>\n",
       "    <tr>\n",
       "      <th>0</th>\n",
       "      <td>CHEMBL395429</td>\n",
       "      <td>iri:uniprot/CHEMBL395429</td>\n",
       "      <td>https://data.elsevier.com/lifescience/entity/reaxys/chemicalcompound/17516222</td>\n",
       "      <td>https://data.elsevier.com/lifescience/entity/resnet/smallmol/72057594038355159</td>\n",
       "      <td>https://data.elsevier.com/lifescience/entity/ppplus/drug/iNXuLnsxtf_</td>\n",
       "      <td>https://data.elsevier.com/lifescience/entity/chembl/compound/392195</td>\n",
       "      <td>OXYTOCIN</td>\n",
       "    </tr>\n",
       "    <tr>\n",
       "      <th>1</th>\n",
       "      <td>CHEMBL395429</td>\n",
       "      <td>iri:uniprot/CHEMBL395429</td>\n",
       "      <td>https://data.elsevier.com/lifescience/entity/reaxys/chemicalcompound/15430736</td>\n",
       "      <td>https://data.elsevier.com/lifescience/entity/resnet/smallmol/72057594039151119</td>\n",
       "      <td>https://data.elsevier.com/lifescience/entity/ppplus/drug/iNXuLnsxtf_</td>\n",
       "      <td>https://data.elsevier.com/lifescience/entity/chembl/compound/392195</td>\n",
       "      <td>OXYTOCIN</td>\n",
       "    </tr>\n",
       "    <tr>\n",
       "      <th>2</th>\n",
       "      <td>CHEMBL395429</td>\n",
       "      <td>iri:uniprot/CHEMBL395429</td>\n",
       "      <td>https://data.elsevier.com/lifescience/entity/reaxys/chemicalcompound/6048494</td>\n",
       "      <td>https://data.elsevier.com/lifescience/entity/resnet/smallmol/72057594039151119</td>\n",
       "      <td>https://data.elsevier.com/lifescience/entity/ppplus/drug/iNXuLnsxtf_</td>\n",
       "      <td>https://data.elsevier.com/lifescience/entity/chembl/compound/392195</td>\n",
       "      <td>OXYTOCIN</td>\n",
       "    </tr>\n",
       "    <tr>\n",
       "      <th>3</th>\n",
       "      <td>CHEMBL395429</td>\n",
       "      <td>iri:uniprot/CHEMBL395429</td>\n",
       "      <td>https://data.elsevier.com/lifescience/entity/reaxys/chemicalcompound/5709910</td>\n",
       "      <td>https://data.elsevier.com/lifescience/entity/resnet/smallmol/72057594039151119</td>\n",
       "      <td>https://data.elsevier.com/lifescience/entity/ppplus/drug/iNXuLnsxtf_</td>\n",
       "      <td>https://data.elsevier.com/lifescience/entity/chembl/compound/392195</td>\n",
       "      <td>OXYTOCIN</td>\n",
       "    </tr>\n",
       "    <tr>\n",
       "      <th>4</th>\n",
       "      <td>CHEMBL395429</td>\n",
       "      <td>iri:uniprot/CHEMBL395429</td>\n",
       "      <td>https://data.elsevier.com/lifescience/entity/reaxys/chemicalcompound/10145454</td>\n",
       "      <td>https://data.elsevier.com/lifescience/entity/resnet/smallmol/72057594038180209</td>\n",
       "      <td>https://data.elsevier.com/lifescience/entity/ppplus/drug/iNXuLnsxtf_</td>\n",
       "      <td>https://data.elsevier.com/lifescience/entity/chembl/compound/392195</td>\n",
       "      <td>OXYTOCIN</td>\n",
       "    </tr>\n",
       "    <tr>\n",
       "      <th>5</th>\n",
       "      <td>CHEMBL395429</td>\n",
       "      <td>iri:uniprot/CHEMBL395429</td>\n",
       "      <td>https://data.elsevier.com/lifescience/entity/reaxys/chemicalcompound/5709910</td>\n",
       "      <td>https://data.elsevier.com/lifescience/entity/resnet/smallmol/72057594038180209</td>\n",
       "      <td>https://data.elsevier.com/lifescience/entity/ppplus/drug/iNXuLnsxtf_</td>\n",
       "      <td>https://data.elsevier.com/lifescience/entity/chembl/compound/392195</td>\n",
       "      <td>OXYTOCIN</td>\n",
       "    </tr>\n",
       "    <tr>\n",
       "      <th>6</th>\n",
       "      <td>CHEMBL395429</td>\n",
       "      <td>iri:uniprot/CHEMBL395429</td>\n",
       "      <td>https://data.elsevier.com/lifescience/entity/reaxys/chemicalcompound/24162959</td>\n",
       "      <td>https://data.elsevier.com/lifescience/entity/resnet/smallmol/72057594038381587</td>\n",
       "      <td>https://data.elsevier.com/lifescience/entity/ppplus/drug/iNXuLnsxtf_</td>\n",
       "      <td>https://data.elsevier.com/lifescience/entity/chembl/compound/392195</td>\n",
       "      <td>OXYTOCIN</td>\n",
       "    </tr>\n",
       "    <tr>\n",
       "      <th>7</th>\n",
       "      <td>CHEMBL395429</td>\n",
       "      <td>iri:uniprot/CHEMBL395429</td>\n",
       "      <td>https://data.elsevier.com/lifescience/entity/reaxys/chemicalcompound/10145454</td>\n",
       "      <td>https://data.elsevier.com/lifescience/entity/resnet/smallmol/72057594038381587</td>\n",
       "      <td>https://data.elsevier.com/lifescience/entity/ppplus/drug/iNXuLnsxtf_</td>\n",
       "      <td>https://data.elsevier.com/lifescience/entity/chembl/compound/392195</td>\n",
       "      <td>OXYTOCIN</td>\n",
       "    </tr>\n",
       "    <tr>\n",
       "      <th>8</th>\n",
       "      <td>CHEMBL395429</td>\n",
       "      <td>iri:uniprot/CHEMBL395429</td>\n",
       "      <td>https://data.elsevier.com/lifescience/entity/reaxys/chemicalcompound/17516222</td>\n",
       "      <td>https://data.elsevier.com/lifescience/entity/resnet/smallmol/72057594038180209</td>\n",
       "      <td>https://data.elsevier.com/lifescience/entity/ppplus/drug/iNXuLnsxtf_</td>\n",
       "      <td>https://data.elsevier.com/lifescience/entity/chembl/compound/392195</td>\n",
       "      <td>OXYTOCIN</td>\n",
       "    </tr>\n",
       "    <tr>\n",
       "      <th>9</th>\n",
       "      <td>CHEMBL395429</td>\n",
       "      <td>iri:uniprot/CHEMBL395429</td>\n",
       "      <td>https://data.elsevier.com/lifescience/entity/reaxys/chemicalcompound/6048494</td>\n",
       "      <td>https://data.elsevier.com/lifescience/entity/resnet/smallmol/72057594038180209</td>\n",
       "      <td>https://data.elsevier.com/lifescience/entity/ppplus/drug/iNXuLnsxtf_</td>\n",
       "      <td>https://data.elsevier.com/lifescience/entity/chembl/compound/392195</td>\n",
       "      <td>OXYTOCIN</td>\n",
       "    </tr>\n",
       "  </tbody>\n",
       "</table>"
      ],
      "text/plain": [
       "<IPython.core.display.HTML object>"
      ]
     },
     "metadata": {},
     "output_type": "display_data"
    }
   ],
   "source": [
    "query = 'oxytocin'\n",
    "query_df = df.filter(col('hasPreferredMoleculeName') == query.upper())\n",
    "show_top(query_df)"
   ]
  },
  {
   "cell_type": "markdown",
   "metadata": {},
   "source": [
    "## What does RMC know about this drug?"
   ]
  },
  {
   "cell_type": "code",
   "execution_count": 6,
   "metadata": {},
   "outputs": [],
   "source": [
    "pwb = PWBdata(hdfs_path)"
   ]
  },
  {
   "cell_type": "code",
   "execution_count": 7,
   "metadata": {},
   "outputs": [],
   "source": [
    "#  Chemical Compounds are linked Compound-AgentConfiguration-BiologicalActivity-MeasureSettings\n",
    "# AGENT\n",
    "agent_df = pwb.get_dataframe(sparkSession, 'rmc', 'agentconfiguration').select('hasChemicalCompound', 'AgentConfiguration')\n",
    "agent_for_query = query_df.join(agent_df, query_df.reaxys_chemicalcompound == agent_df.hasChemicalCompound)\n",
    "#show_top(agent_for_query)"
   ]
  },
  {
   "cell_type": "code",
   "execution_count": 8,
   "metadata": {},
   "outputs": [],
   "source": [
    "# BIOLOGICAL ACTIVITY\n",
    "bioact_df = pwb.get_dataframe(sparkSession, 'rmc', 'biologicalactivity').select('BiologicalActivity','hasMeasureSettings','hasAgentConfiguration')\n",
    "bioact_for_query = agent_for_query.join(bioact_df, agent_for_query.AgentConfiguration == bioact_df.hasAgentConfiguration)\n",
    "#show_top(bioact_for_query)"
   ]
  },
  {
   "cell_type": "code",
   "execution_count": 9,
   "metadata": {},
   "outputs": [],
   "source": [
    "# MEASURE SETTINGS\n",
    "measure_df = pwb.get_dataframe(sparkSession, 'rmc', 'measuresettings') \\\n",
    "    .withColumn(\"hasBiologicalActivity\", explode(split(\"hasBiologicalActivity\", \"\\|\\|\"))) \\\n",
    "    .select('MeasureSettings', 'hasMeasuredParameter', 'hasBioAssay', 'hasChemicalCompound', 'hasBiologicalActivity') \\\n",
    "    .withColumnRenamed('hasBiologicalActivity', 'BiologicalActivity')\n",
    "parameter_df = pwb.get_dataframe(sparkSession, 'rmc', 'measuredparameter').select('MeasuredParameter', 'hasLabel').withColumnRenamed('hasLabel', 'parameter')\n",
    "measure_with_labels = measure_df.join(parameter_df, parameter_df.MeasuredParameter == measure_df.hasMeasuredParameter)\n",
    "measure_for_query = bioact_for_query.join(measure_with_labels, 'BiologicalActivity')\n",
    "#show_top(measure_for_query)"
   ]
  },
  {
   "cell_type": "code",
   "execution_count": 10,
   "metadata": {},
   "outputs": [
    {
     "data": {
      "text/html": [
       "<table border=\"1\" class=\"dataframe\">\n",
       "  <thead>\n",
       "    <tr style=\"text-align: right;\">\n",
       "      <th></th>\n",
       "      <th>parameter</th>\n",
       "      <th>count</th>\n",
       "    </tr>\n",
       "  </thead>\n",
       "  <tbody>\n",
       "    <tr>\n",
       "      <th>0</th>\n",
       "      <td>stimulation percentage</td>\n",
       "      <td>68</td>\n",
       "    </tr>\n",
       "    <tr>\n",
       "      <th>1</th>\n",
       "      <td>EC50</td>\n",
       "      <td>68</td>\n",
       "    </tr>\n",
       "    <tr>\n",
       "      <th>2</th>\n",
       "      <td>qualitative</td>\n",
       "      <td>48</td>\n",
       "    </tr>\n",
       "    <tr>\n",
       "      <th>3</th>\n",
       "      <td>Emax</td>\n",
       "      <td>48</td>\n",
       "    </tr>\n",
       "    <tr>\n",
       "      <th>4</th>\n",
       "      <td>pEC50</td>\n",
       "      <td>20</td>\n",
       "    </tr>\n",
       "    <tr>\n",
       "      <th>5</th>\n",
       "      <td>Ki (inhibition constant)</td>\n",
       "      <td>20</td>\n",
       "    </tr>\n",
       "    <tr>\n",
       "      <th>6</th>\n",
       "      <td>IC50</td>\n",
       "      <td>16</td>\n",
       "    </tr>\n",
       "    <tr>\n",
       "      <th>7</th>\n",
       "      <td>t1/2 el</td>\n",
       "      <td>8</td>\n",
       "    </tr>\n",
       "    <tr>\n",
       "      <th>8</th>\n",
       "      <td>pKi</td>\n",
       "      <td>8</td>\n",
       "    </tr>\n",
       "    <tr>\n",
       "      <th>9</th>\n",
       "      <td>GI</td>\n",
       "      <td>8</td>\n",
       "    </tr>\n",
       "    <tr>\n",
       "      <th>10</th>\n",
       "      <td>Kd (dissociation constant)</td>\n",
       "      <td>4</td>\n",
       "    </tr>\n",
       "    <tr>\n",
       "      <th>11</th>\n",
       "      <td>Activity</td>\n",
       "      <td>4</td>\n",
       "    </tr>\n",
       "    <tr>\n",
       "      <th>12</th>\n",
       "      <td>Bmax</td>\n",
       "      <td>4</td>\n",
       "    </tr>\n",
       "    <tr>\n",
       "      <th>13</th>\n",
       "      <td>pIC50</td>\n",
       "      <td>4</td>\n",
       "    </tr>\n",
       "    <tr>\n",
       "      <th>14</th>\n",
       "      <td>percentage</td>\n",
       "      <td>4</td>\n",
       "    </tr>\n",
       "    <tr>\n",
       "      <th>15</th>\n",
       "      <td>frequency</td>\n",
       "      <td>4</td>\n",
       "    </tr>\n",
       "    <tr>\n",
       "      <th>16</th>\n",
       "      <td>F (drug bioavailability)</td>\n",
       "      <td>4</td>\n",
       "    </tr>\n",
       "  </tbody>\n",
       "</table>"
      ],
      "text/plain": [
       "<IPython.core.display.HTML object>"
      ]
     },
     "metadata": {},
     "output_type": "display_data"
    }
   ],
   "source": [
    "show_top(measure_for_query.groupBy('parameter').count().orderBy('count', ascending=False), 20)"
   ]
  },
  {
   "cell_type": "markdown",
   "metadata": {},
   "source": [
    "## What does Pharmapendium know about this drug?"
   ]
  },
  {
   "cell_type": "code",
   "execution_count": 11,
   "metadata": {},
   "outputs": [],
   "source": [
    "# drugs link Dosing Regimen-Study-StudyDesign\n",
    "# DOSING REGIMEN\n",
    "pp_dosing_regimen_df = pwb.get_dataframe(sparkSession, 'pp', 'Dosingregimen').select('DosingRegimen', 'hasDrug' ).withColumnRenamed('hasDrug', 'pharmapendium_drug')\n",
    "query2regimen_df = query_df.join(pp_dosing_regimen_df, 'pharmapendium_drug')\n",
    "#  STUDY\n",
    "pp_study_df = pwb.get_dataframe(sparkSession, 'pp', 'Study').select('Study','hasDosingRegimen', 'hasMeasure', 'hasStudyDesign') \\\n",
    "    .withColumnRenamed('hasDosingRegimen', 'DosingRegimen') \\\n",
    "    .withColumnRenamed('hasStudyDesign', 'StudyDesign')\n",
    "query2study = query2regimen_df.join(pp_study_df, 'DosingRegimen')\n",
    "# show_top(query2study)"
   ]
  },
  {
   "cell_type": "code",
   "execution_count": 12,
   "metadata": {},
   "outputs": [],
   "source": [
    "# STUDY DESIGN\n",
    "pp_studydesign_df = pwb.get_dataframe(sparkSession, 'pp', 'Studydesign').select('StudyDesign','hasStudyDesignType') \\\n",
    "    .withColumnRenamed('hasStudyDesignType','StudyDesignType')\n",
    "pp_studydesigntype_df = pwb.get_dataframe(sparkSession, 'pp', 'Studydesigntype').select('StudyDesignType','core_prefLabel') \\\n",
    "    .withColumnRenamed('core_prefLabel', 'module')\n",
    "pp_studydesign_with_labels = pp_studydesign_df.join(pp_studydesigntype_df, 'StudyDesignType')\n",
    "# show_top(pp_studydesign_with_labels)"
   ]
  },
  {
   "cell_type": "code",
   "execution_count": 13,
   "metadata": {},
   "outputs": [
    {
     "data": {
      "text/html": [
       "<table border=\"1\" class=\"dataframe\">\n",
       "  <thead>\n",
       "    <tr style=\"text-align: right;\">\n",
       "      <th></th>\n",
       "      <th>module</th>\n",
       "      <th>count</th>\n",
       "    </tr>\n",
       "  </thead>\n",
       "  <tbody>\n",
       "    <tr>\n",
       "      <th>0</th>\n",
       "      <td>safety</td>\n",
       "      <td>5376</td>\n",
       "    </tr>\n",
       "    <tr>\n",
       "      <th>1</th>\n",
       "      <td>faers</td>\n",
       "      <td>55384</td>\n",
       "    </tr>\n",
       "    <tr>\n",
       "      <th>2</th>\n",
       "      <td>pk</td>\n",
       "      <td>280</td>\n",
       "    </tr>\n",
       "    <tr>\n",
       "      <th>3</th>\n",
       "      <td>me</td>\n",
       "      <td>560</td>\n",
       "    </tr>\n",
       "    <tr>\n",
       "      <th>4</th>\n",
       "      <td>activity</td>\n",
       "      <td>15568</td>\n",
       "    </tr>\n",
       "  </tbody>\n",
       "</table>"
      ],
      "text/plain": [
       "<IPython.core.display.HTML object>"
      ]
     },
     "metadata": {},
     "output_type": "display_data"
    }
   ],
   "source": [
    "pp_results_df = query2study.join(pp_studydesign_with_labels, 'StudyDesign').groupBy('module').count()\n",
    "show_top(pp_results_df)"
   ]
  },
  {
   "cell_type": "markdown",
   "metadata": {},
   "source": [
    "## What does Resnet know about this drug?"
   ]
  },
  {
   "cell_type": "code",
   "execution_count": 63,
   "metadata": {},
   "outputs": [
    {
     "data": {
      "text/html": [
       "<table border=\"1\" class=\"dataframe\">\n",
       "  <thead>\n",
       "    <tr style=\"text-align: right;\">\n",
       "      <th></th>\n",
       "      <th>regulating_entity</th>\n",
       "      <th>count</th>\n",
       "    </tr>\n",
       "  </thead>\n",
       "  <tbody>\n",
       "    <tr>\n",
       "      <th>0</th>\n",
       "      <td>clinicaltrial</td>\n",
       "      <td>2</td>\n",
       "    </tr>\n",
       "    <tr>\n",
       "      <th>1</th>\n",
       "      <td>directregulation</td>\n",
       "      <td>6</td>\n",
       "    </tr>\n",
       "    <tr>\n",
       "      <th>2</th>\n",
       "      <td>regulation</td>\n",
       "      <td>7</td>\n",
       "    </tr>\n",
       "  </tbody>\n",
       "</table>"
      ],
      "text/plain": [
       "<IPython.core.display.HTML object>"
      ]
     },
     "metadata": {},
     "output_type": "display_data"
    }
   ],
   "source": [
    "# is regulator of\n",
    "resnet4reg_df = pwb.get_dataframe(sparkSession, 'resnet', 'Smallmol').select('SmallMol','isRegulatorOf') \\\n",
    "    .withColumnRenamed('SmallMol', 'resnet_smallmol')\n",
    "regulated_df = resnet4reg_df.withColumn(\"Regulates\", explode(split(\"isRegulatorOf\", \"\\|\\|\"))).drop('isRegulatorOf')\n",
    "regulated4query = query_df.join(regulated_df, 'resnet_smallmol')\n",
    "regulator_count = regulated4query.select(\"Regulates\").distinct().count()\n",
    "regulators = regulated4query.select(\"Regulates\").distinct()\n",
    "reg_types  = regulators.withColumn('regulating_entity', f.split(f.col(\"Regulates\"),\"/\").getItem(6))\n",
    "show_top(reg_types.groupBy('regulating_entity').count())"
   ]
  },
  {
   "cell_type": "code",
   "execution_count": 65,
   "metadata": {},
   "outputs": [
    {
     "data": {
      "text/html": [
       "<table border=\"1\" class=\"dataframe\">\n",
       "  <thead>\n",
       "    <tr style=\"text-align: right;\">\n",
       "      <th></th>\n",
       "      <th>partnering_entity</th>\n",
       "      <th>count</th>\n",
       "    </tr>\n",
       "  </thead>\n",
       "  <tbody>\n",
       "    <tr>\n",
       "      <th>0</th>\n",
       "      <td>binding</td>\n",
       "      <td>2</td>\n",
       "    </tr>\n",
       "  </tbody>\n",
       "</table>"
      ],
      "text/plain": [
       "<IPython.core.display.HTML object>"
      ]
     },
     "metadata": {},
     "output_type": "display_data"
    }
   ],
   "source": [
    "# is partner of\n",
    "resnet4partner_df = pwb.get_dataframe(sparkSession, 'resnet', 'Smallmol').select('SmallMol','isPartnerOf') \\\n",
    "    .withColumnRenamed('SmallMol', 'resnet_smallmol')\n",
    "partnered_df = resnet4partner_df.withColumn(\"Partners\", explode(split(\"isPartnerOf\", \"\\|\\|\"))).drop('isPartnerOf')\n",
    "partnered4query = query_df.join(partnered_df, 'resnet_smallmol')\n",
    "partner_count = partnered4query.select(\"Partners\").distinct().count()\n",
    "partners = partnered4query.select(\"Partners\").distinct()\n",
    "partner_types  = partners.withColumn('partnering_entity', f.split(f.col(\"Partners\"),\"/\").getItem(6))\n",
    "show_top(partner_types.groupBy('partnering_entity').count())"
   ]
  },
  {
   "cell_type": "code",
   "execution_count": 66,
   "metadata": {},
   "outputs": [
    {
     "data": {
      "text/html": [
       "<table border=\"1\" class=\"dataframe\">\n",
       "  <thead>\n",
       "    <tr style=\"text-align: right;\">\n",
       "      <th></th>\n",
       "      <th>targeting_entity</th>\n",
       "      <th>count</th>\n",
       "    </tr>\n",
       "  </thead>\n",
       "  <tbody>\n",
       "  </tbody>\n",
       "</table>"
      ],
      "text/plain": [
       "<IPython.core.display.HTML object>"
      ]
     },
     "metadata": {},
     "output_type": "display_data"
    }
   ],
   "source": [
    "# is target of\n",
    "resnet4target_df = pwb.get_dataframe(sparkSession, 'resnet', 'Smallmol').select('SmallMol','isTargetOf') \\\n",
    "    .withColumnRenamed('SmallMol', 'resnet_smallmol')\n",
    "target_df = resnet4target_df.withColumn(\"Targets\", explode(split(\"isTargetOf\", \"\\|\\|\"))).drop('isTargetOf')\n",
    "target4query = query_df.join(target_df, 'resnet_smallmol')\n",
    "targets = target4query.select(\"Targets\").distinct()\n",
    "target_types  = targets.withColumn('targeting_entity', f.split(f.col(\"Targets\"),\"/\").getItem(6))\n",
    "show_top(target_types.groupBy('targeting_entity').count())"
   ]
  },
  {
   "cell_type": "code",
   "execution_count": null,
   "metadata": {},
   "outputs": [],
   "source": []
  }
 ],
 "metadata": {
  "kernelspec": {
   "display_name": "Python 3",
   "language": "python",
   "name": "python3"
  },
  "language_info": {
   "codemirror_mode": {
    "name": "ipython",
    "version": 3
   },
   "file_extension": ".py",
   "mimetype": "text/x-python",
   "name": "python",
   "nbconvert_exporter": "python",
   "pygments_lexer": "ipython3",
   "version": "3.8.6"
  }
 },
 "nbformat": 4,
 "nbformat_minor": 4
}
