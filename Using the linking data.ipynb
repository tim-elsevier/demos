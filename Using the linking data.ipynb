{
 "cells": [
  {
   "cell_type": "markdown",
   "id": "8ca7e3b3",
   "metadata": {},
   "source": [
    "# Using the linking data"
   ]
  },
  {
   "cell_type": "markdown",
   "id": "3631ff56",
   "metadata": {},
   "source": [
    "The linking tables provide the ability to connect concepts across the different databases.  Each table links one database to another by  a shared entity.  Those shared entities are:\n",
    "COMPOUND\n",
    "SPECIES\n",
    "CELLTYPE\n",
    "TARGET\n",
    "ANAT\n",
    "The PWB utility class provides a convenient way to fetch the mapping table based on entity, source database and target database"
   ]
  },
  {
   "cell_type": "code",
   "execution_count": 1,
   "id": "34f56209",
   "metadata": {},
   "outputs": [
    {
     "data": {
      "text/html": [
       "\n",
       "        <div>\n",
       "            <p><b>SparkContext</b></p>\n",
       "\n",
       "            <p><a href=\"http://jupyter-96b4f737-2d8a40-2d4c1a-2dbf61-2da4cda8c6de6b:4043\">Spark UI</a></p>\n",
       "\n",
       "            <dl>\n",
       "              <dt>Version</dt>\n",
       "                <dd><code>v3.0.0</code></dd>\n",
       "              <dt>Master</dt>\n",
       "                <dd><code>local[*]</code></dd>\n",
       "              <dt>AppName</dt>\n",
       "                <dd><code>testing</code></dd>\n",
       "            </dl>\n",
       "        </div>\n",
       "        "
      ],
      "text/plain": [
       "<SparkContext master=local[*] appName=testing>"
      ]
     },
     "execution_count": 1,
     "metadata": {},
     "output_type": "execute_result"
    }
   ],
   "source": [
    "import spark_session_builder\n",
    "\n",
    "sparkSession, sc = spark_session_builder.session()\n",
    "sc"
   ]
  },
  {
   "cell_type": "code",
   "execution_count": 2,
   "id": "5b3129cc",
   "metadata": {},
   "outputs": [],
   "source": [
    "hdfs_file_location = \"hdfs://demo-full-load-hdfs-namenode:8020\"\n",
    "from PWBdata import PWBdata\n",
    "pwb = PWBdata(hdfs_file_location)"
   ]
  },
  {
   "cell_type": "code",
   "execution_count": 3,
   "id": "ff791b31",
   "metadata": {},
   "outputs": [],
   "source": [
    "from IPython.core.display import HTML\n",
    "\n",
    "\n",
    "def show_top(df, records=10):\n",
    "    \"\"\"\n",
    "    display the top n records in a table\n",
    "    \"\"\"\n",
    "    display(HTML(df.limit(records).toPandas().to_html(escape=False)))"
   ]
  },
  {
   "cell_type": "markdown",
   "id": "0641d06b",
   "metadata": {},
   "source": [
    "## Using the PWB utility class"
   ]
  },
  {
   "cell_type": "code",
   "execution_count": 12,
   "id": "f26b5c92",
   "metadata": {},
   "outputs": [
    {
     "data": {
      "application/vnd.jupyter.widget-view+json": {
       "model_id": "9c6504b250814a89b9623336b485e88e",
       "version_major": 2,
       "version_minor": 0
      },
      "text/plain": [
       "Dropdown(description='entity:', options=('ANAT', 'CELLTYPE', 'COMPOUND', 'SPECIES', 'TARGET'), value='ANAT')"
      ]
     },
     "metadata": {},
     "output_type": "display_data"
    },
    {
     "data": {
      "application/vnd.jupyter.widget-view+json": {
       "model_id": "9d3b2407a1ee4427b5736a917b8b2f18",
       "version_major": 2,
       "version_minor": 0
      },
      "text/plain": [
       "Dropdown(description='source:', options=('pp', 'resnet', 'rmc'), value='pp')"
      ]
     },
     "metadata": {},
     "output_type": "display_data"
    },
    {
     "data": {
      "application/vnd.jupyter.widget-view+json": {
       "model_id": "418a4ff35dad437b990c70e472fc567f",
       "version_major": 2,
       "version_minor": 0
      },
      "text/plain": [
       "Dropdown(description='destination:', options=('pp', 'resnet', 'rmc'), value='pp')"
      ]
     },
     "metadata": {},
     "output_type": "display_data"
    }
   ],
   "source": [
    "import ipywidgets as widgets\n",
    "e = widgets.Dropdown(\n",
    "    options=['ANAT', 'CELLTYPE', 'COMPOUND', 'SPECIES',  'TARGET' ],\n",
    "    description='entity:',\n",
    "    disabled=False,\n",
    ")\n",
    "src = widgets.Dropdown(\n",
    "    options=['pp', 'resnet', 'rmc'],\n",
    "    description='source:',\n",
    "    disabled=False,\n",
    ")\n",
    "dest = widgets.Dropdown(\n",
    "    options=['pp', 'resnet', 'rmc'],\n",
    "    description='destination:',\n",
    "    disabled=False,\n",
    ")\n",
    "\n",
    "display(e, src, dest)"
   ]
  },
  {
   "cell_type": "markdown",
   "id": "d14b550b",
   "metadata": {},
   "source": [
    "## If the combination of entity, target and source exists in the mapping tables, show it"
   ]
  },
  {
   "cell_type": "code",
   "execution_count": 18,
   "id": "c04f3748",
   "metadata": {},
   "outputs": [
    {
     "data": {
      "text/plain": [
       "'Mapping resnet to rmc for entity ANAT'"
      ]
     },
     "metadata": {},
     "output_type": "display_data"
    },
    {
     "data": {
      "text/html": [
       "<table border=\"1\" class=\"dataframe\">\n",
       "  <thead>\n",
       "    <tr style=\"text-align: right;\">\n",
       "      <th></th>\n",
       "      <th>hdfsIngestTime</th>\n",
       "      <th>offset</th>\n",
       "      <th>fingerprint</th>\n",
       "      <th>reaxys_tissueororgan</th>\n",
       "      <th>resnet_organ</th>\n",
       "      <th>provenanceId</th>\n",
       "    </tr>\n",
       "  </thead>\n",
       "  <tbody>\n",
       "    <tr>\n",
       "      <th>0</th>\n",
       "      <td>2021-05-05T15:57:22.711188</td>\n",
       "      <td>872</td>\n",
       "      <td>iri:ScibiteVocabANAT/U0001394</td>\n",
       "      <td>https://data.elsevier.com/lifescience/entity/reaxys/tissueororgan/T_TISORG-527</td>\n",
       "      <td>https://data.elsevier.com/lifescience/entity/resnet/organ/72057594038163672</td>\n",
       "      <td>None</td>\n",
       "    </tr>\n",
       "    <tr>\n",
       "      <th>1</th>\n",
       "      <td>2021-05-05T15:57:22.711218</td>\n",
       "      <td>873</td>\n",
       "      <td>iri:ScibiteVocabANAT/U0001394</td>\n",
       "      <td>https://data.elsevier.com/lifescience/entity/reaxys/tissueororgan/527</td>\n",
       "      <td>https://data.elsevier.com/lifescience/entity/resnet/organ/72057594038163672</td>\n",
       "      <td>None</td>\n",
       "    </tr>\n",
       "    <tr>\n",
       "      <th>2</th>\n",
       "      <td>2021-05-05T15:57:22.711401</td>\n",
       "      <td>908</td>\n",
       "      <td>iri:ScibiteVocabANAT/U0002376</td>\n",
       "      <td>https://data.elsevier.com/lifescience/entity/reaxys/tissueororgan/T_TISORG-3004</td>\n",
       "      <td>https://data.elsevier.com/lifescience/entity/resnet/organ/72057594038220771</td>\n",
       "      <td>None</td>\n",
       "    </tr>\n",
       "    <tr>\n",
       "      <th>3</th>\n",
       "      <td>2021-05-05T15:57:22.711187</td>\n",
       "      <td>909</td>\n",
       "      <td>iri:ScibiteVocabANAT/U0002376</td>\n",
       "      <td>https://data.elsevier.com/lifescience/entity/reaxys/tissueororgan/3004</td>\n",
       "      <td>https://data.elsevier.com/lifescience/entity/resnet/organ/72057594038220771</td>\n",
       "      <td>None</td>\n",
       "    </tr>\n",
       "    <tr>\n",
       "      <th>4</th>\n",
       "      <td>2021-05-05T15:57:22.721952</td>\n",
       "      <td>928</td>\n",
       "      <td>iri:ScibiteVocabANAT/U0000376</td>\n",
       "      <td>https://data.elsevier.com/lifescience/entity/reaxys/tissueororgan/T_TISORG-1761</td>\n",
       "      <td>https://data.elsevier.com/lifescience/entity/resnet/organ/72057594038164021</td>\n",
       "      <td>None</td>\n",
       "    </tr>\n",
       "    <tr>\n",
       "      <th>5</th>\n",
       "      <td>2021-05-05T15:57:22.721946</td>\n",
       "      <td>929</td>\n",
       "      <td>iri:ScibiteVocabANAT/U0000376</td>\n",
       "      <td>https://data.elsevier.com/lifescience/entity/reaxys/tissueororgan/1761</td>\n",
       "      <td>https://data.elsevier.com/lifescience/entity/resnet/organ/72057594038164021</td>\n",
       "      <td>None</td>\n",
       "    </tr>\n",
       "    <tr>\n",
       "      <th>6</th>\n",
       "      <td>2021-05-05T15:57:22.721334</td>\n",
       "      <td>932</td>\n",
       "      <td>iri:ScibiteVocabANAT/U0002456</td>\n",
       "      <td>https://data.elsevier.com/lifescience/entity/reaxys/tissueororgan/T_TISORG-2845</td>\n",
       "      <td>https://data.elsevier.com/lifescience/entity/resnet/organ/72057594038163685</td>\n",
       "      <td>None</td>\n",
       "    </tr>\n",
       "    <tr>\n",
       "      <th>7</th>\n",
       "      <td>2021-05-05T15:57:22.721915</td>\n",
       "      <td>933</td>\n",
       "      <td>iri:ScibiteVocabANAT/U0002456</td>\n",
       "      <td>https://data.elsevier.com/lifescience/entity/reaxys/tissueororgan/2845</td>\n",
       "      <td>https://data.elsevier.com/lifescience/entity/resnet/organ/72057594038163685</td>\n",
       "      <td>None</td>\n",
       "    </tr>\n",
       "    <tr>\n",
       "      <th>8</th>\n",
       "      <td>2021-05-05T15:57:22.72778</td>\n",
       "      <td>953</td>\n",
       "      <td>iri:ScibiteVocabANAT/U0003474</td>\n",
       "      <td>https://data.elsevier.com/lifescience/entity/reaxys/tissueororgan/T_TISORG-563</td>\n",
       "      <td>https://data.elsevier.com/lifescience/entity/resnet/organ/72057594038163669</td>\n",
       "      <td>None</td>\n",
       "    </tr>\n",
       "    <tr>\n",
       "      <th>9</th>\n",
       "      <td>2021-05-05T15:57:22.727038</td>\n",
       "      <td>954</td>\n",
       "      <td>iri:ScibiteVocabANAT/U0003474</td>\n",
       "      <td>https://data.elsevier.com/lifescience/entity/reaxys/tissueororgan/563</td>\n",
       "      <td>https://data.elsevier.com/lifescience/entity/resnet/organ/72057594038163669</td>\n",
       "      <td>None</td>\n",
       "    </tr>\n",
       "  </tbody>\n",
       "</table>"
      ],
      "text/plain": [
       "<IPython.core.display.HTML object>"
      ]
     },
     "metadata": {},
     "output_type": "display_data"
    }
   ],
   "source": [
    "source = src.value\n",
    "destination = dest.value\n",
    "entity = e.value\n",
    "display('Mapping ' + source + ' to ' + destination + ' for entity ' + entity)\n",
    "df = pwb.get_linking_dataframe(sparkSession, source, destination, entity)\n",
    "if df:\n",
    "    show_top(df)"
   ]
  },
  {
   "cell_type": "code",
   "execution_count": null,
   "id": "9f9b6f54",
   "metadata": {},
   "outputs": [],
   "source": []
  }
 ],
 "metadata": {
  "kernelspec": {
   "display_name": "Python 3",
   "language": "python",
   "name": "python3"
  },
  "language_info": {
   "codemirror_mode": {
    "name": "ipython",
    "version": 3
   },
   "file_extension": ".py",
   "mimetype": "text/x-python",
   "name": "python",
   "nbconvert_exporter": "python",
   "pygments_lexer": "ipython3",
   "version": "3.8.8"
  }
 },
 "nbformat": 4,
 "nbformat_minor": 5
}
