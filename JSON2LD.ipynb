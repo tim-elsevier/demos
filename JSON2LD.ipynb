{
 "cells": [
  {
   "cell_type": "code",
   "execution_count": 1,
   "id": "62d441fd",
   "metadata": {},
   "outputs": [
    {
     "name": "stdout",
     "output_type": "stream",
     "text": [
      "S0002822307022067\n"
     ]
    }
   ],
   "source": [
    "import json\n",
    "from pyld import jsonld\n",
    "from rdflib import URIRef, BNode, Literal, Namespace\n",
    "import uuid\n",
    "from datetime import date\n",
    "\n",
    "path = '/home/jovyan/tim/ScienceDirect/labs/xocs/'\n",
    "pii = 'S0002822307022067'\n",
    "fn = path + pii + '.json'\n",
    "with open(fn) as json_data:\n",
    "    d = json.load(json_data)\n",
    "    json_data.close()\n",
    "print (d['PII'])"
   ]
  },
  {
   "cell_type": "code",
   "execution_count": 2,
   "id": "6a45d934",
   "metadata": {},
   "outputs": [],
   "source": [
    "context = {\n",
    "  \"@context\": {\"@import\": \"http://www.w3.org/ns/anno.jsonld\",\n",
    "    \"rdf\": \"http://www.w3.org/1999/02/22-rdf-syntax-ns#\",\n",
    "    \"rdfs\": \"http://www.w3.org/2000/01/rdf-schema#\",\n",
    "    \"xsd\": \"http://www.w3.org/2001/XMLSchema#\",\n",
    "    \"edm\": \"https://data.elsevier.com/schema/edm/\",\n",
    "    \"oa\": \"http://www.w3.org/ns/oa#\",\n",
    "    \"skos\": \"http://www.w3.org/2004/02/skos/core#\",\n",
    "    \"scibite\": \"http://scibite.com/ontology/scibite#\",\n",
    "    \"tr\": \"http://scibite.com/ontology/termiteresult#\",\n",
    "    \"ts\": \"https://data.elsevier.com/lifescience/termite/schema/\",\n",
    "    \"idtype\": \"https://data.elsevier.com/e/identifier/\",\n",
    "    \"ef\": \"https://data.elsevier.com/lifescience/ef/\",\n",
    "    \"efs\": \"https://data.elsevier.com/lifescience/schema/efs/\"\n",
    "              }\n",
    "}"
   ]
  },
  {
   "cell_type": "code",
   "execution_count": 3,
   "id": "61bbd7bd",
   "metadata": {},
   "outputs": [],
   "source": [
    "\n",
    "edm = Namespace(\"https://data.elsevier.com/schema/edm/\")\n",
    "ef = Namespace(\"https://data.elsevier.com/lifescience/ef/\")\n",
    "idtype = Namespace(\"https://data.elsevier.com/e/identifier/\")\n",
    "xsd = Namespace(\"http://www.w3.org/2001/XMLSchema#\")\n",
    "tr = Namespace(\"http://scibite.com/ontology/termiteresult#\")\n",
    "skos = Namespace(\"http://www.w3.org/2004/02/skos/core#\")\n",
    "oa = Namespace(\"http://www.w3.org/ns/oa#\")\n",
    "               \n",
    "\n",
    "today = str(date.today())\n",
    "               \n",
    "\"\"\"starting items\"\"\"\n",
    "doc  = {'@id': d['PII'],\n",
    "  '@type': \"Article\"}\n",
    "\"\"\"Authors\"\"\"\n",
    "authors = []\n",
    "for au in d['Authors']:\n",
    "    authors.append({'id':ef.person + str(uuid.uuid4()), edm.familyName:au['surname'], edm.firstName:au['forename']})\n",
    "doc[edm.hasAuthor] = authors\n",
    "\"\"\"Identifiers\"\"\"\n",
    "identifiers = []\n",
    "identifiers.append({'@type': idtype.DOI, \"@value\": d['DOI']})\n",
    "identifiers.append({'@type': idtype.PII, \"@value\": d['PII']})\n",
    "identifiers.append({'@type': edm.issn, \"@value\": d['ISSN']})\n",
    "identifiers.append({'@type': ef.cid, \"@value\": d['CID']})\n",
    "doc[edm.identifiers] = identifiers\n",
    "\"\"\"Title & Abstract\"\"\"\n",
    "doc[edm.title] = d['Title']\n",
    "doc[edm.abstract] = d['Abstract']\n",
    "\"\"\"Dates\"\"\"\n",
    "doc[edm.publishedDate] = {'@type': xsd.date, '@value': d['PublicationDate']}\n",
    "doc[edm.modifiedDate] = {'@type': xsd.date, '@value': today}\n",
    "\"\"\"Journal\"\"\"\n",
    "doc[edm.includedIn] = {'@type': edm.journal, '@value': d['JournalTitle']}\n"
   ]
  },
  {
   "cell_type": "code",
   "execution_count": 9,
   "id": "1fbaf1d8",
   "metadata": {},
   "outputs": [
    {
     "name": "stdout",
     "output_type": "stream",
     "text": [
      "Neoplastic Cell Transformation 117\n",
      "vitamin 9\n",
      "Vegetables 1\n",
      "Carcinoma 110\n",
      "Hypertension 1\n",
      "lung 1\n"
     ]
    }
   ],
   "source": [
    "\"\"\"Entities\"\"\"\n",
    "ents = []\n",
    "for e in d['Entities']:\n",
    "    # We have to do the whole monty for each location\n",
    "    try:\n",
    "        diff =  len(e['Locations'])- len(e['XPaths'])\n",
    "        if diff != 0:\n",
    "            print (e['PreferredName'] + \" \" + str(diff))\n",
    "    except:\n",
    "        pass\n",
    "    my_base_id = d['PII'] + \"_xml_\" + e['EntityType'] + \"_\" + e['ID'] + \"_\"\n",
    "    loc_counter = 0\n",
    "    for loc in e['Locations']:\n",
    "        # each entry has an id, type(=='Annotation'), body, target and edm:mentions)\n",
    "        #ID\n",
    "        entry = {'@id': \"http://scibite.com/ontology/termiteresult#\" + my_base_id + str(loc_counter)}\n",
    "        #TYPE\n",
    "        entry['@type'] = 'Annotation'\n",
    "        #BODY\n",
    "        body = {'@id': \"http://scibite.com/ontology/termiteresult#\" + e['EntityType'] + \"_\" + e['ID']}\n",
    "        body['@type'] = skos.Concept\n",
    "        body[skos.prefLabel] = e['PreferredName']\n",
    "        \"\"\"body/broader\"\"\"\n",
    "        broader = {'@id':\"https://data.elsevier.com/lifescience/termite/taxonomy/\" + e['EntityType']}\n",
    "        broader['@type'] = skos.Concept\n",
    "        broader[skos.prefLabel] = e['EntityType']\n",
    "        body[skos.broader] = broader\n",
    "        entry[tr.body] = body\n",
    "        #TARGET\n",
    "        target = {'@id':\"http://scibite.com/ontology/termiteresult#\" + my_base_id + \"_\" + str(loc_counter) + \"_target\"}\n",
    "        target['@type'] = oa.Target\n",
    "        \"\"\"target/selector\"\"\"\n",
    "        selector = {'@id':\"http://scibite.com/ontology/termiteresult#\" + my_base_id + \"_\" + str(loc_counter) + \"_selector\"}\n",
    "        selector['@type'] = oa.TextPositionSelector\n",
    "        selector[tr.sentence] = loc['Sentence']\n",
    "        selector[oa.start] = loc['Start']\n",
    "        selector[oa.end] = loc['End']\n",
    "        #NB there is not a one-to-one concordance of Locations to XPaths\n",
    "        selector[oa.XPathSelector] = {oa.XPathSelector : \"http:/example.com/TODO\"}\n",
    "        target[oa.selector] = selector\n",
    "        \"\"\"target/source\"\"\"\n",
    "        target[tr.source] = {'@id': \"http://scibite.com/ontology/termiteresult#\" + d['PII'] + \"_xml\", '@type': edm.Work}\n",
    "        entry[oa.target] = target\n",
    "        #MENTIONS\n",
    "        entry[edm.mentions] = {'@id': \"http://scibite.com/ontology/termiteresult#\" + e['EntityType'] + \"_\" + e['ID'] }\n",
    "        loc_counter += 1\n",
    "        #TODO HigherTerms\n",
    "        \"\"\"\n",
    "                    \"HigherTerms\": [\n",
    "                {\n",
    "                    \"TreePathCode\": \"CHEMBL_ATC/Thing/A/A07/A07A/A07AA/A07AA04\",\n",
    "                    \"TreePath\": \"CHEMBL_ATC/Thing/ALIMENTARY TRACT AND METABOLISM/ANTIDIARRHEALS, INTESTINAL ANTIINFLAMMATORY\\\\/ANTIINFECTIVE AGENTS/INTESTINAL ANTIINFECTIVES/Antibiotics/streptomycin\"\n",
    "                },\n",
    "                {\n",
    "                    \"TreePathCode\": \"CHEMBL_ATC/Thing/J/J01/J01G/J01GA/J01GA01\",\n",
    "                    \"TreePath\": \"CHEMBL_ATC/Thing/ANTIINFECTIVES FOR SYSTEMIC USE/ANTIBACTERIALS FOR SYSTEMIC USE/AMINOGLYCOSIDE ANTIBACTERIALS/Streptomycins/streptomycin\"\n",
    "                },\n",
    "                {\n",
    "                    \"TreePathCode\": \"CHEMBL_ATC/Thing/A/A07/A07A/A07AA/A07AA54\",\n",
    "                    \"TreePath\": \"CHEMBL_ATC/Thing/ALIMENTARY TRACT AND METABOLISM/ANTIDIARRHEALS, INTESTINAL ANTIINFLAMMATORY\\\\/ANTIINFECTIVE AGENTS/INTESTINAL ANTIINFECTIVES/Antibiotics/streptomycin, combinations\"\n",
    "                }\n",
    "            ],\n",
    "        \"\"\"\n",
    "        ents.append(entry)\n",
    "doc['@graph'] = ents"
   ]
  },
  {
   "cell_type": "code",
   "execution_count": null,
   "id": "3b7dc85a",
   "metadata": {},
   "outputs": [],
   "source": [
    "compacted = jsonld.compact(doc, context)\n",
    "outfile = path + pii + \".schema.json\"\n",
    "with open(outfile, 'w') as f:\n",
    "    f.write(json.dumps(compacted))\n",
    "#print(json.dumps(compacted, indent=2))"
   ]
  },
  {
   "cell_type": "code",
   "execution_count": null,
   "id": "588a5107",
   "metadata": {},
   "outputs": [],
   "source": []
  },
  {
   "cell_type": "code",
   "execution_count": null,
   "id": "847d1d95",
   "metadata": {},
   "outputs": [],
   "source": []
  }
 ],
 "metadata": {
  "kernelspec": {
   "display_name": "Python 3",
   "language": "python",
   "name": "python3"
  },
  "language_info": {
   "codemirror_mode": {
    "name": "ipython",
    "version": 3
   },
   "file_extension": ".py",
   "mimetype": "text/x-python",
   "name": "python",
   "nbconvert_exporter": "python",
   "pygments_lexer": "ipython3",
   "version": "3.8.8"
  }
 },
 "nbformat": 4,
 "nbformat_minor": 5
}
