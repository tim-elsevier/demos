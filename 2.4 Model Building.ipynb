{
 "cells": [
  {
   "cell_type": "markdown",
   "metadata": {},
   "source": [
    "# Scenario 2.4 - Model Building\n",
    "We are going to train a model that will predict, for a given target, the activity of an input molecule (identified by its Morgan fingerprint). The data used to train our model will be found in PPPlus. In order to create our experiment data set, we will need to find, for each study in PPPlus:\n",
    "\n",
    "* the Smiles of the drug used in this study,\n",
    "* the the targets of that drug,\n",
    "* the activity of that drug on its targets\n",
    "\n",
    "# Extracting Data\n",
    "\n",
    "We will start by specifying the paths to the different tables of PPPlus that are of interest to us in order to reach this information. "
   ]
  },
  {
   "cell_type": "code",
   "execution_count": 1,
   "metadata": {},
   "outputs": [],
   "source": [
    "# Setting up the paths to each required table\n",
    "hdfs_path = \"hdfs://demo-full-load-hdfs-namenode:8020\"\n",
    "pp_drug_path = hdfs_path + '/ppplus/elsevier-csv-ppplus-drug_deduplicated/*.csv'\n",
    "pp_study_design_path = hdfs_path + '/ppplus/elsevier-csv-ppplus-studydesign_deduplicated/*.csv'\n",
    "pp_study_path = hdfs_path + '/ppplus/elsevier-csv-ppplus-study_deduplicated/*.csv'\n",
    "pp_result_path =  hdfs_path + '/ppplus/elsevier-csv-ppplus-result_deduplicated/*.csv'\n",
    "pp_measure_path =  hdfs_path + '/ppplus/elsevier-csv-ppplus-measure_deduplicated/*.csv'\n",
    "pp_dosing_regimen = hdfs_path + '/ppplus/elsevier-csv-ppplus-dosingregimen_deduplicated/*.csv'\n",
    "pp_target_path = hdfs_path + '/ppplus/elsevier-csv-ppplus-target_deduplicated/*.csv'"
   ]
  },
  {
   "cell_type": "markdown",
   "metadata": {},
   "source": [
    "Once the paths are specified, we start a Spark session in order to be able to open the corresponding csv files stored in hdfs."
   ]
  },
  {
   "cell_type": "code",
   "execution_count": 2,
   "metadata": {},
   "outputs": [
    {
     "data": {
      "text/html": [
       "\n",
       "        <div>\n",
       "            <p><b>SparkContext</b></p>\n",
       "\n",
       "            <p><a href=\"http://100.67.5.238:4041\">Spark UI</a></p>\n",
       "\n",
       "            <dl>\n",
       "              <dt>Version</dt>\n",
       "                <dd><code>v3.0.0</code></dd>\n",
       "              <dt>Master</dt>\n",
       "                <dd><code>k8s://https://kubernetes.default.svc.cluster.local:443</code></dd>\n",
       "              <dt>AppName</dt>\n",
       "                <dd><code>job_name</code></dd>\n",
       "            </dl>\n",
       "        </div>\n",
       "        "
      ],
      "text/plain": [
       "<SparkContext master=k8s://https://kubernetes.default.svc.cluster.local:443 appName=job_name>"
      ]
     },
     "execution_count": 2,
     "metadata": {},
     "output_type": "execute_result"
    }
   ],
   "source": [
    "#  import spark related modules\n",
    "import pyspark\n",
    "import socket\n",
    "from pyspark.sql import SparkSession\n",
    "from pyspark.sql.functions import countDistinct\n",
    "from pyspark import SparkContext, StorageLevel\n",
    "from rdkit.Chem.Draw.IPythonConsole import display_pil_image\n",
    "from rdkit.Chem.Draw import MolToImage\n",
    "from rdkit.Chem.Draw import MolsToGridImage\n",
    "from rdkit import Chem\n",
    "import os , sys\n",
    "import multiprocessing as mp\n",
    "import uuid\n",
    "\n",
    "def add_prefix(sdf, prefix):\n",
    "    for c in sdf.columns:\n",
    "        sdf = sdf.withColumnRenamed(c, '{}{}'.format(prefix, c))\n",
    "    return sdf\n",
    "\n",
    "# prevent error on rerunning if session is still alive\n",
    "if 'sc' in globals():\n",
    "    sc.stop()\n",
    "    \n",
    "# most configuration of the sparksession is done for you in the back\n",
    "application_name = 'Use case 1 - Pharmapendium'\n",
    "\n",
    "conf = pyspark.SparkConf()\\\n",
    "    .set(\"spark.driver.memory\",\"10g\")\\\n",
    "    .set(\"spark.sql.execution.arrow.pyspark.enabled\", \"true\")\\\n",
    "    .set(\"spark.sql.crossJoin.enabled\", \"true\")\\\n",
    "    .set(\"spark.sql.shuffle.partitions\" , 16)\\\n",
    "    .setAppName(application_name).setMaster('local[*]')\n",
    "\n",
    "sparkSession = SparkSession.builder.appName('job_name')\\\n",
    "                           .config('spark.executor.memory', '4g')\\\n",
    "                           .config('spark.executor.instances', '5')\\\n",
    "                           .config('spark.sql.shuffle.partitions', '50')\\\n",
    "                           .config('spark.driver.memory', '4g')\\\n",
    "                           .config('spark.executor.cores', '3')\\\n",
    "                           .config('spark.driver.host', socket.gethostbyname(socket.gethostname()))\\\n",
    "                           .getOrCreate()\n",
    "\n",
    "#sparkSession = SparkSession.builder.config(conf=conf).getOrCreate()\n",
    "\n",
    "sc = sparkSession.sparkContext\n",
    "sc"
   ]
  },
  {
   "cell_type": "markdown",
   "metadata": {},
   "source": [
    "We will now create a Spark dataframe for each table, containing the columns that will be needed to retrieve the information that we need."
   ]
  },
  {
   "cell_type": "code",
   "execution_count": 3,
   "metadata": {},
   "outputs": [],
   "source": [
    "import pprint\n",
    "from IPython.display import Markdown, display, HTML\n",
    "\n",
    "ppplus_drug = sparkSession \\\n",
    "            .read \\\n",
    "            .option(\"header\",\"true\") \\\n",
    "            .csv(pp_drug_path) \\\n",
    "            .select([\"Drug\",\"hasName\",\"hasSmiles\"]) \\\n",
    "            .withColumnRenamed('hasName','drugName') \\\n",
    "            .dropDuplicates(['Drug'])\n",
    "drug = ppplus_drug.alias('drug')\n",
    "\n",
    "ppplus_target = sparkSession \\\n",
    "            .read \\\n",
    "            .option(\"header\",\"true\") \\\n",
    "            .csv(pp_target_path) \\\n",
    "            .select([\"Target\",\"core_prefLabel\"]) \\\n",
    "            .withColumnRenamed('core_prefLabel','targetName') \\\n",
    "            .dropDuplicates(['Target'])\n",
    "targets = ppplus_target.alias('targets')\n",
    "\n",
    "pp_study_design = sparkSession \\\n",
    "            .read \\\n",
    "            .option(\"header\",\"true\") \\\n",
    "            .csv(pp_study_design_path) \\\n",
    "            .select([\"StudyDesign\",\"hasTarget\",\"hasAgonistAntagonist\"])\\\n",
    "            .dropDuplicates(['StudyDesign'])\\\n",
    "            .na.drop(subset=[\"hasAgonistAntagonist\"])\n",
    "study_design = pp_study_design.alias('study_design')\n",
    "\n",
    "pp_study = sparkSession \\\n",
    "            .read \\\n",
    "            .option(\"header\",\"true\") \\\n",
    "            .csv(pp_study_path) \\\n",
    "            .select([\"Study\",\"hasStudyDesign\",\"hasDosingRegimen\",\"hasMeasure\"])\\\n",
    "            .dropDuplicates(['Study'])\n",
    "study = pp_study.alias('study')\n",
    "\n",
    "ppplus_result = sparkSession \\\n",
    "            .read \\\n",
    "            .option(\"header\",\"true\") \\\n",
    "            .csv(pp_result_path) \\\n",
    "            .select([\"Result\",\"hasValue\"])\\\n",
    "            .dropDuplicates(['Result'])\n",
    "results = ppplus_result.alias('results')\n",
    "\n",
    "ppplus_measure = sparkSession \\\n",
    "            .read \\\n",
    "            .option(\"header\",\"true\") \\\n",
    "            .csv(pp_measure_path) \\\n",
    "            .select([\"Measure\",\"hasResult\",\"hasParameterDisplay\",\"hasPkParameter\"])\\\n",
    "            .dropDuplicates(['Measure'])\n",
    "measures = ppplus_measure.alias('measures')\n",
    "\n",
    "ppplus_dosing_regimen = sparkSession \\\n",
    "            .read \\\n",
    "            .option(\"header\",\"true\") \\\n",
    "            .csv(pp_dosing_regimen) \\\n",
    "            .select([\"DosingRegimen\",\"hasDrug\"])\\\n",
    "            .dropDuplicates(['DosingRegimen'])\n",
    "dosing_regimen = ppplus_dosing_regimen.alias('dosing_regimen')"
   ]
  },
  {
   "cell_type": "markdown",
   "metadata": {},
   "source": [
    "Once we have all the tables as dataframes, we can join them together. We start by joining study_design and dosing_regiment to study. From study_design, we can access the *hasAgonistAntagonist* column that qualifies the activity that the study's drug has on its targets. Then, we join drug to study_desing which gives us access to the column *hasSmiles* for every study. The target is a bit trickier to get: the *hasTarget* column of study_design contains a serialized list of target uri, which we will need to separate with the methods split() and explode(). Once done, we have a new row for each different target of the study."
   ]
  },
  {
   "cell_type": "code",
   "execution_count": 4,
   "metadata": {},
   "outputs": [],
   "source": [
    "from pyspark.sql.functions import broadcast\n",
    "from pyspark.sql.functions import concat, lit, col, split, explode\n",
    "\n",
    "df = study\\\n",
    "     .join(study_design      , study.hasStudyDesign    == study_design.StudyDesign, how='inner')\\\n",
    "     .join(dosing_regimen    , study.hasDosingRegimen  == dosing_regimen.DosingRegimen , how='inner')\\\n",
    "     .join(drug              , dosing_regimen.hasDrug  == drug.Drug , how='inner')\\\n",
    "     .select(split(col(\"hasTarget\"),\"\\|\\|\").alias(\"hasTarget\"), \"hasAgonistAntagonist\", \"hasSmiles\")\\\n",
    "     .withColumn('hasTarget' , explode('hasTarget'))"
   ]
  },
  {
   "cell_type": "markdown",
   "metadata": {},
   "source": [
    "With each target uri on a different row, we can join the table with targets. This gives us access to the *targetName* column, containing the name of the target."
   ]
  },
  {
   "cell_type": "code",
   "execution_count": 5,
   "metadata": {},
   "outputs": [],
   "source": [
    "df2 = df.join(targets           , df.hasTarget == targets.Target, how='inner')"
   ]
  },
  {
   "cell_type": "markdown",
   "metadata": {},
   "source": [
    "From this point, we decide to use D4 Dopamine Receptor as out target, meaning that our model will be able to give a prediction of the activity that any input molecule has on D4 dopamine Receptors. We also decide to not predict the activities labeled as not applicable."
   ]
  },
  {
   "cell_type": "code",
   "execution_count": 6,
   "metadata": {},
   "outputs": [],
   "source": [
    "focused_target = sc.broadcast([\"D4 Dopamine Receptor\"])\n",
    "focused_activity = sc.broadcast([\"Not applicable\"])\n",
    "result = df2.where(targets.targetName.isin(focused_target.value)\\\n",
    "                & ~study_design.hasAgonistAntagonist.isin(focused_activity.value))"
   ]
  },
  {
   "cell_type": "markdown",
   "metadata": {},
   "source": [
    "We obtain a dataframe containing all the raw information that is needed to train our model. We get a quick view into it:"
   ]
  },
  {
   "cell_type": "code",
   "execution_count": 7,
   "metadata": {},
   "outputs": [
    {
     "data": {
      "text/html": [
       "<div>\n",
       "<style scoped>\n",
       "    .dataframe tbody tr th:only-of-type {\n",
       "        vertical-align: middle;\n",
       "    }\n",
       "\n",
       "    .dataframe tbody tr th {\n",
       "        vertical-align: top;\n",
       "    }\n",
       "\n",
       "    .dataframe thead th {\n",
       "        text-align: right;\n",
       "    }\n",
       "</style>\n",
       "<table border=\"1\" class=\"dataframe\">\n",
       "  <thead>\n",
       "    <tr style=\"text-align: right;\">\n",
       "      <th></th>\n",
       "      <th>hasTarget</th>\n",
       "      <th>hasAgonistAntagonist</th>\n",
       "      <th>hasSmiles</th>\n",
       "      <th>Target</th>\n",
       "      <th>targetName</th>\n",
       "    </tr>\n",
       "  </thead>\n",
       "  <tbody>\n",
       "    <tr>\n",
       "      <th>0</th>\n",
       "      <td>https://data.elsevier.com/lifescience/taxonomy...</td>\n",
       "      <td>Radioligand (/ligand)</td>\n",
       "      <td>ClC1=CC=CC(N2CCN(CCCCOC3=CC=C4CCC(=O)NC4=C3)CC...</td>\n",
       "      <td>https://data.elsevier.com/lifescience/taxonomy...</td>\n",
       "      <td>D4 Dopamine Receptor</td>\n",
       "    </tr>\n",
       "    <tr>\n",
       "      <th>1</th>\n",
       "      <td>https://data.elsevier.com/lifescience/taxonomy...</td>\n",
       "      <td>Radioligand (/ligand)</td>\n",
       "      <td>ClC1=CC=CC(N2CCN(CCCCOC3=CC=C4CCC(=O)NC4=C3)CC...</td>\n",
       "      <td>https://data.elsevier.com/lifescience/taxonomy...</td>\n",
       "      <td>D4 Dopamine Receptor</td>\n",
       "    </tr>\n",
       "    <tr>\n",
       "      <th>2</th>\n",
       "      <td>https://data.elsevier.com/lifescience/taxonomy...</td>\n",
       "      <td>Inhibitor</td>\n",
       "      <td>CCCCCCCCCC(=O)OCCN1CCN(CCCN2C3=CC(=CC=C3SC3=C2...</td>\n",
       "      <td>https://data.elsevier.com/lifescience/taxonomy...</td>\n",
       "      <td>D4 Dopamine Receptor</td>\n",
       "    </tr>\n",
       "    <tr>\n",
       "      <th>3</th>\n",
       "      <td>https://data.elsevier.com/lifescience/taxonomy...</td>\n",
       "      <td>Inhibitor</td>\n",
       "      <td>CCCCCCCCCC(=O)OCCN1CCN(CCCN2C3=CC(=CC=C3SC3=C2...</td>\n",
       "      <td>https://data.elsevier.com/lifescience/taxonomy...</td>\n",
       "      <td>D4 Dopamine Receptor</td>\n",
       "    </tr>\n",
       "    <tr>\n",
       "      <th>4</th>\n",
       "      <td>https://data.elsevier.com/lifescience/taxonomy...</td>\n",
       "      <td>Agonist</td>\n",
       "      <td>Cl.NCCC1=CC=C(O)C(O)=C1</td>\n",
       "      <td>https://data.elsevier.com/lifescience/taxonomy...</td>\n",
       "      <td>D4 Dopamine Receptor</td>\n",
       "    </tr>\n",
       "    <tr>\n",
       "      <th>5</th>\n",
       "      <td>https://data.elsevier.com/lifescience/taxonomy...</td>\n",
       "      <td>Agonist</td>\n",
       "      <td>Cl.NCCC1=CC=C(O)C(O)=C1</td>\n",
       "      <td>https://data.elsevier.com/lifescience/taxonomy...</td>\n",
       "      <td>D4 Dopamine Receptor</td>\n",
       "    </tr>\n",
       "    <tr>\n",
       "      <th>6</th>\n",
       "      <td>https://data.elsevier.com/lifescience/taxonomy...</td>\n",
       "      <td>Radioligand (/ligand)</td>\n",
       "      <td>OC1(CCN(CCCC(=O)C2=CC=C(F)C=C2)CC1)C1=CC=C(Cl)...</td>\n",
       "      <td>https://data.elsevier.com/lifescience/taxonomy...</td>\n",
       "      <td>D4 Dopamine Receptor</td>\n",
       "    </tr>\n",
       "    <tr>\n",
       "      <th>7</th>\n",
       "      <td>https://data.elsevier.com/lifescience/taxonomy...</td>\n",
       "      <td>Radioligand (/ligand)</td>\n",
       "      <td>OC1(CCN(CCCC(=O)C2=CC=C(F)C=C2)CC1)C1=CC=C(Cl)...</td>\n",
       "      <td>https://data.elsevier.com/lifescience/taxonomy...</td>\n",
       "      <td>D4 Dopamine Receptor</td>\n",
       "    </tr>\n",
       "    <tr>\n",
       "      <th>8</th>\n",
       "      <td>https://data.elsevier.com/lifescience/taxonomy...</td>\n",
       "      <td>Agonist</td>\n",
       "      <td>Cl.CCCN(CCC)CCC1=CC=CC2=C1CC(=O)N2</td>\n",
       "      <td>https://data.elsevier.com/lifescience/taxonomy...</td>\n",
       "      <td>D4 Dopamine Receptor</td>\n",
       "    </tr>\n",
       "    <tr>\n",
       "      <th>9</th>\n",
       "      <td>https://data.elsevier.com/lifescience/taxonomy...</td>\n",
       "      <td>Agonist</td>\n",
       "      <td>Cl.CCCN(CCC)CCC1=CC=CC2=C1CC(=O)N2</td>\n",
       "      <td>https://data.elsevier.com/lifescience/taxonomy...</td>\n",
       "      <td>D4 Dopamine Receptor</td>\n",
       "    </tr>\n",
       "  </tbody>\n",
       "</table>\n",
       "</div>"
      ],
      "text/plain": [
       "                                           hasTarget   hasAgonistAntagonist  \\\n",
       "0  https://data.elsevier.com/lifescience/taxonomy...  Radioligand (/ligand)   \n",
       "1  https://data.elsevier.com/lifescience/taxonomy...  Radioligand (/ligand)   \n",
       "2  https://data.elsevier.com/lifescience/taxonomy...              Inhibitor   \n",
       "3  https://data.elsevier.com/lifescience/taxonomy...              Inhibitor   \n",
       "4  https://data.elsevier.com/lifescience/taxonomy...                Agonist   \n",
       "5  https://data.elsevier.com/lifescience/taxonomy...                Agonist   \n",
       "6  https://data.elsevier.com/lifescience/taxonomy...  Radioligand (/ligand)   \n",
       "7  https://data.elsevier.com/lifescience/taxonomy...  Radioligand (/ligand)   \n",
       "8  https://data.elsevier.com/lifescience/taxonomy...                Agonist   \n",
       "9  https://data.elsevier.com/lifescience/taxonomy...                Agonist   \n",
       "\n",
       "                                           hasSmiles  \\\n",
       "0  ClC1=CC=CC(N2CCN(CCCCOC3=CC=C4CCC(=O)NC4=C3)CC...   \n",
       "1  ClC1=CC=CC(N2CCN(CCCCOC3=CC=C4CCC(=O)NC4=C3)CC...   \n",
       "2  CCCCCCCCCC(=O)OCCN1CCN(CCCN2C3=CC(=CC=C3SC3=C2...   \n",
       "3  CCCCCCCCCC(=O)OCCN1CCN(CCCN2C3=CC(=CC=C3SC3=C2...   \n",
       "4                            Cl.NCCC1=CC=C(O)C(O)=C1   \n",
       "5                            Cl.NCCC1=CC=C(O)C(O)=C1   \n",
       "6  OC1(CCN(CCCC(=O)C2=CC=C(F)C=C2)CC1)C1=CC=C(Cl)...   \n",
       "7  OC1(CCN(CCCC(=O)C2=CC=C(F)C=C2)CC1)C1=CC=C(Cl)...   \n",
       "8                 Cl.CCCN(CCC)CCC1=CC=CC2=C1CC(=O)N2   \n",
       "9                 Cl.CCCN(CCC)CCC1=CC=CC2=C1CC(=O)N2   \n",
       "\n",
       "                                              Target            targetName  \n",
       "0  https://data.elsevier.com/lifescience/taxonomy...  D4 Dopamine Receptor  \n",
       "1  https://data.elsevier.com/lifescience/taxonomy...  D4 Dopamine Receptor  \n",
       "2  https://data.elsevier.com/lifescience/taxonomy...  D4 Dopamine Receptor  \n",
       "3  https://data.elsevier.com/lifescience/taxonomy...  D4 Dopamine Receptor  \n",
       "4  https://data.elsevier.com/lifescience/taxonomy...  D4 Dopamine Receptor  \n",
       "5  https://data.elsevier.com/lifescience/taxonomy...  D4 Dopamine Receptor  \n",
       "6  https://data.elsevier.com/lifescience/taxonomy...  D4 Dopamine Receptor  \n",
       "7  https://data.elsevier.com/lifescience/taxonomy...  D4 Dopamine Receptor  \n",
       "8  https://data.elsevier.com/lifescience/taxonomy...  D4 Dopamine Receptor  \n",
       "9  https://data.elsevier.com/lifescience/taxonomy...  D4 Dopamine Receptor  "
      ]
     },
     "metadata": {},
     "output_type": "display_data"
    }
   ],
   "source": [
    "display(result.limit(10).toPandas())"
   ]
  },
  {
   "cell_type": "raw",
   "metadata": {},
   "source": [
    "We can also quickly list which activites are going to be predicted by our model:"
   ]
  },
  {
   "cell_type": "code",
   "execution_count": 8,
   "metadata": {
    "scrolled": true
   },
   "outputs": [
    {
     "name": "stdout",
     "output_type": "stream",
     "text": [
      "+--------------------+-----+\n",
      "|hasAgonistAntagonist|count|\n",
      "+--------------------+-----+\n",
      "|Allosteric Modulator|   12|\n",
      "|             Agonist| 2176|\n",
      "|     Inverse agonist|  166|\n",
      "|             Blocker|  624|\n",
      "|Radioligand (/lig...|  172|\n",
      "|          Antagonist|  978|\n",
      "|           Inhibitor|  562|\n",
      "|          Stimulator|   54|\n",
      "|           Activator|   62|\n",
      "|           Substrate|   26|\n",
      "+--------------------+-----+\n",
      "\n"
     ]
    }
   ],
   "source": [
    "result.groupBy('hasAgonistAntagonist').count().show()"
   ]
  },
  {
   "cell_type": "markdown",
   "metadata": {},
   "source": [
    "We can now save that data into a csv file in order to be able to re-open in later without doing the same data processing."
   ]
  },
  {
   "cell_type": "code",
   "execution_count": 9,
   "metadata": {},
   "outputs": [],
   "source": [
    "result.toPandas().to_csv('database_target_activity.csv')"
   ]
  },
  {
   "cell_type": "markdown",
   "metadata": {},
   "source": [
    "After restarting a session, it is possible to continue from this point."
   ]
  },
  {
   "cell_type": "code",
   "execution_count": 10,
   "metadata": {},
   "outputs": [
    {
     "data": {
      "text/html": [
       "<div>\n",
       "<style scoped>\n",
       "    .dataframe tbody tr th:only-of-type {\n",
       "        vertical-align: middle;\n",
       "    }\n",
       "\n",
       "    .dataframe tbody tr th {\n",
       "        vertical-align: top;\n",
       "    }\n",
       "\n",
       "    .dataframe thead th {\n",
       "        text-align: right;\n",
       "    }\n",
       "</style>\n",
       "<table border=\"1\" class=\"dataframe\">\n",
       "  <thead>\n",
       "    <tr style=\"text-align: right;\">\n",
       "      <th></th>\n",
       "      <th>Unnamed: 0</th>\n",
       "      <th>hasTarget</th>\n",
       "      <th>hasAgonistAntagonist</th>\n",
       "      <th>hasSmiles</th>\n",
       "      <th>Target</th>\n",
       "      <th>targetName</th>\n",
       "    </tr>\n",
       "  </thead>\n",
       "  <tbody>\n",
       "    <tr>\n",
       "      <th>0</th>\n",
       "      <td>0</td>\n",
       "      <td>https://data.elsevier.com/lifescience/taxonomy...</td>\n",
       "      <td>Radioligand (/ligand)</td>\n",
       "      <td>ClC1=CC=CC(N2CCN(CCCCOC3=CC=C4CCC(=O)NC4=C3)CC...</td>\n",
       "      <td>https://data.elsevier.com/lifescience/taxonomy...</td>\n",
       "      <td>D4 Dopamine Receptor</td>\n",
       "    </tr>\n",
       "    <tr>\n",
       "      <th>1</th>\n",
       "      <td>1</td>\n",
       "      <td>https://data.elsevier.com/lifescience/taxonomy...</td>\n",
       "      <td>Radioligand (/ligand)</td>\n",
       "      <td>ClC1=CC=CC(N2CCN(CCCCOC3=CC=C4CCC(=O)NC4=C3)CC...</td>\n",
       "      <td>https://data.elsevier.com/lifescience/taxonomy...</td>\n",
       "      <td>D4 Dopamine Receptor</td>\n",
       "    </tr>\n",
       "    <tr>\n",
       "      <th>2</th>\n",
       "      <td>2</td>\n",
       "      <td>https://data.elsevier.com/lifescience/taxonomy...</td>\n",
       "      <td>Inhibitor</td>\n",
       "      <td>CCCCCCCCCC(=O)OCCN1CCN(CCCN2C3=CC(=CC=C3SC3=C2...</td>\n",
       "      <td>https://data.elsevier.com/lifescience/taxonomy...</td>\n",
       "      <td>D4 Dopamine Receptor</td>\n",
       "    </tr>\n",
       "    <tr>\n",
       "      <th>3</th>\n",
       "      <td>3</td>\n",
       "      <td>https://data.elsevier.com/lifescience/taxonomy...</td>\n",
       "      <td>Inhibitor</td>\n",
       "      <td>CCCCCCCCCC(=O)OCCN1CCN(CCCN2C3=CC(=CC=C3SC3=C2...</td>\n",
       "      <td>https://data.elsevier.com/lifescience/taxonomy...</td>\n",
       "      <td>D4 Dopamine Receptor</td>\n",
       "    </tr>\n",
       "    <tr>\n",
       "      <th>4</th>\n",
       "      <td>4</td>\n",
       "      <td>https://data.elsevier.com/lifescience/taxonomy...</td>\n",
       "      <td>Agonist</td>\n",
       "      <td>Cl.NCCC1=CC=C(O)C(O)=C1</td>\n",
       "      <td>https://data.elsevier.com/lifescience/taxonomy...</td>\n",
       "      <td>D4 Dopamine Receptor</td>\n",
       "    </tr>\n",
       "    <tr>\n",
       "      <th>...</th>\n",
       "      <td>...</td>\n",
       "      <td>...</td>\n",
       "      <td>...</td>\n",
       "      <td>...</td>\n",
       "      <td>...</td>\n",
       "      <td>...</td>\n",
       "    </tr>\n",
       "    <tr>\n",
       "      <th>4827</th>\n",
       "      <td>4827</td>\n",
       "      <td>https://data.elsevier.com/lifescience/taxonomy...</td>\n",
       "      <td>Agonist</td>\n",
       "      <td>OC1(CCN(CCCC(=O)C2=CC=C(F)C=C2)CC1)C1=CC=C(Cl)...</td>\n",
       "      <td>https://data.elsevier.com/lifescience/taxonomy...</td>\n",
       "      <td>D4 Dopamine Receptor</td>\n",
       "    </tr>\n",
       "    <tr>\n",
       "      <th>4828</th>\n",
       "      <td>4828</td>\n",
       "      <td>https://data.elsevier.com/lifescience/taxonomy...</td>\n",
       "      <td>Agonist</td>\n",
       "      <td>Cl.NCCC1=CC=C(O)C(O)=C1</td>\n",
       "      <td>https://data.elsevier.com/lifescience/taxonomy...</td>\n",
       "      <td>D4 Dopamine Receptor</td>\n",
       "    </tr>\n",
       "    <tr>\n",
       "      <th>4829</th>\n",
       "      <td>4829</td>\n",
       "      <td>https://data.elsevier.com/lifescience/taxonomy...</td>\n",
       "      <td>Agonist</td>\n",
       "      <td>Cl.NCCC1=CC=C(O)C(O)=C1</td>\n",
       "      <td>https://data.elsevier.com/lifescience/taxonomy...</td>\n",
       "      <td>D4 Dopamine Receptor</td>\n",
       "    </tr>\n",
       "    <tr>\n",
       "      <th>4830</th>\n",
       "      <td>4830</td>\n",
       "      <td>https://data.elsevier.com/lifescience/taxonomy...</td>\n",
       "      <td>Antagonist</td>\n",
       "      <td>Cl.CN(C)CCCN1C2=CC(Cl)=CC=C2SC2=C1C=CC=C2</td>\n",
       "      <td>https://data.elsevier.com/lifescience/taxonomy...</td>\n",
       "      <td>D4 Dopamine Receptor</td>\n",
       "    </tr>\n",
       "    <tr>\n",
       "      <th>4831</th>\n",
       "      <td>4831</td>\n",
       "      <td>https://data.elsevier.com/lifescience/taxonomy...</td>\n",
       "      <td>Antagonist</td>\n",
       "      <td>Cl.CN(C)CCCN1C2=CC(Cl)=CC=C2SC2=C1C=CC=C2</td>\n",
       "      <td>https://data.elsevier.com/lifescience/taxonomy...</td>\n",
       "      <td>D4 Dopamine Receptor</td>\n",
       "    </tr>\n",
       "  </tbody>\n",
       "</table>\n",
       "<p>4832 rows × 6 columns</p>\n",
       "</div>"
      ],
      "text/plain": [
       "      Unnamed: 0                                          hasTarget  \\\n",
       "0              0  https://data.elsevier.com/lifescience/taxonomy...   \n",
       "1              1  https://data.elsevier.com/lifescience/taxonomy...   \n",
       "2              2  https://data.elsevier.com/lifescience/taxonomy...   \n",
       "3              3  https://data.elsevier.com/lifescience/taxonomy...   \n",
       "4              4  https://data.elsevier.com/lifescience/taxonomy...   \n",
       "...          ...                                                ...   \n",
       "4827        4827  https://data.elsevier.com/lifescience/taxonomy...   \n",
       "4828        4828  https://data.elsevier.com/lifescience/taxonomy...   \n",
       "4829        4829  https://data.elsevier.com/lifescience/taxonomy...   \n",
       "4830        4830  https://data.elsevier.com/lifescience/taxonomy...   \n",
       "4831        4831  https://data.elsevier.com/lifescience/taxonomy...   \n",
       "\n",
       "       hasAgonistAntagonist  \\\n",
       "0     Radioligand (/ligand)   \n",
       "1     Radioligand (/ligand)   \n",
       "2                 Inhibitor   \n",
       "3                 Inhibitor   \n",
       "4                   Agonist   \n",
       "...                     ...   \n",
       "4827                Agonist   \n",
       "4828                Agonist   \n",
       "4829                Agonist   \n",
       "4830             Antagonist   \n",
       "4831             Antagonist   \n",
       "\n",
       "                                              hasSmiles  \\\n",
       "0     ClC1=CC=CC(N2CCN(CCCCOC3=CC=C4CCC(=O)NC4=C3)CC...   \n",
       "1     ClC1=CC=CC(N2CCN(CCCCOC3=CC=C4CCC(=O)NC4=C3)CC...   \n",
       "2     CCCCCCCCCC(=O)OCCN1CCN(CCCN2C3=CC(=CC=C3SC3=C2...   \n",
       "3     CCCCCCCCCC(=O)OCCN1CCN(CCCN2C3=CC(=CC=C3SC3=C2...   \n",
       "4                               Cl.NCCC1=CC=C(O)C(O)=C1   \n",
       "...                                                 ...   \n",
       "4827  OC1(CCN(CCCC(=O)C2=CC=C(F)C=C2)CC1)C1=CC=C(Cl)...   \n",
       "4828                            Cl.NCCC1=CC=C(O)C(O)=C1   \n",
       "4829                            Cl.NCCC1=CC=C(O)C(O)=C1   \n",
       "4830          Cl.CN(C)CCCN1C2=CC(Cl)=CC=C2SC2=C1C=CC=C2   \n",
       "4831          Cl.CN(C)CCCN1C2=CC(Cl)=CC=C2SC2=C1C=CC=C2   \n",
       "\n",
       "                                                 Target            targetName  \n",
       "0     https://data.elsevier.com/lifescience/taxonomy...  D4 Dopamine Receptor  \n",
       "1     https://data.elsevier.com/lifescience/taxonomy...  D4 Dopamine Receptor  \n",
       "2     https://data.elsevier.com/lifescience/taxonomy...  D4 Dopamine Receptor  \n",
       "3     https://data.elsevier.com/lifescience/taxonomy...  D4 Dopamine Receptor  \n",
       "4     https://data.elsevier.com/lifescience/taxonomy...  D4 Dopamine Receptor  \n",
       "...                                                 ...                   ...  \n",
       "4827  https://data.elsevier.com/lifescience/taxonomy...  D4 Dopamine Receptor  \n",
       "4828  https://data.elsevier.com/lifescience/taxonomy...  D4 Dopamine Receptor  \n",
       "4829  https://data.elsevier.com/lifescience/taxonomy...  D4 Dopamine Receptor  \n",
       "4830  https://data.elsevier.com/lifescience/taxonomy...  D4 Dopamine Receptor  \n",
       "4831  https://data.elsevier.com/lifescience/taxonomy...  D4 Dopamine Receptor  \n",
       "\n",
       "[4832 rows x 6 columns]"
      ]
     },
     "metadata": {},
     "output_type": "display_data"
    }
   ],
   "source": [
    "import pandas as pd\n",
    "data = pd.read_csv(\"database_target_activity.csv\")\n",
    "display(data)"
   ]
  },
  {
   "cell_type": "markdown",
   "metadata": {},
   "source": [
    "We have the Smiles of our drugs, but the input of our model will be the Morgan fingerprints. In order to obtain the Morgan fingerprints from the Smiles, we will use the RDKit module. With it, we create a function that transforms a Smiles into an array of ones and zeros representing the Morgan Fingerprint of the molecule."
   ]
  },
  {
   "cell_type": "code",
   "execution_count": 11,
   "metadata": {},
   "outputs": [],
   "source": [
    "from rdkit import Chem\n",
    "from rdkit.Chem import AllChem\n",
    "from rdkit.Chem import DataStructs\n",
    "\n",
    "def to_morgan_fp(smiles):\n",
    "    mol = Chem.MolFromSmiles(smiles)\n",
    "    fp = AllChem.GetMorganFingerprintAsBitVect(mol, radius=2, nBits=512)\n",
    "    arr = np.zeros((0,), dtype=np.int8)\n",
    "    DataStructs.ConvertToNumpyArray(fp,arr)\n",
    "    return arr"
   ]
  },
  {
   "cell_type": "markdown",
   "metadata": {},
   "source": [
    "Regarding the output of our model, we currently have a string that qualifies the activity of our drug on the target (\"Agonist\" for instance). We need to vectorize our output in order to train the model (MLP) that we will use. In order to do so, we define another function. "
   ]
  },
  {
   "cell_type": "code",
   "execution_count": 12,
   "metadata": {},
   "outputs": [],
   "source": [
    "def vectorize(value):\n",
    "    return [1 if i == value else 0 for i in data.hasAgonistAntagonist.unique()]"
   ]
  },
  {
   "cell_type": "markdown",
   "metadata": {},
   "source": [
    "With our two functions, we create two new columns in the dataframe: one with the fingerprints and another with the vectorized activity."
   ]
  },
  {
   "cell_type": "code",
   "execution_count": 13,
   "metadata": {},
   "outputs": [],
   "source": [
    "import numpy as np\n",
    "data['Fingerprint'] = data[\"hasSmiles\"].apply(to_morgan_fp)"
   ]
  },
  {
   "cell_type": "code",
   "execution_count": 14,
   "metadata": {},
   "outputs": [],
   "source": [
    "data['Activity'] = data[\"hasAgonistAntagonist\"].apply(vectorize)"
   ]
  },
  {
   "cell_type": "markdown",
   "metadata": {},
   "source": [
    "We can take a look at the result:"
   ]
  },
  {
   "cell_type": "code",
   "execution_count": 15,
   "metadata": {},
   "outputs": [
    {
     "data": {
      "text/html": [
       "<div>\n",
       "<style scoped>\n",
       "    .dataframe tbody tr th:only-of-type {\n",
       "        vertical-align: middle;\n",
       "    }\n",
       "\n",
       "    .dataframe tbody tr th {\n",
       "        vertical-align: top;\n",
       "    }\n",
       "\n",
       "    .dataframe thead th {\n",
       "        text-align: right;\n",
       "    }\n",
       "</style>\n",
       "<table border=\"1\" class=\"dataframe\">\n",
       "  <thead>\n",
       "    <tr style=\"text-align: right;\">\n",
       "      <th></th>\n",
       "      <th>Fingerprint</th>\n",
       "      <th>Activity</th>\n",
       "    </tr>\n",
       "  </thead>\n",
       "  <tbody>\n",
       "    <tr>\n",
       "      <th>0</th>\n",
       "      <td>[0, 0, 0, 0, 0, 0, 0, 0, 0, 0, 1, 0, 0, 1, 0, ...</td>\n",
       "      <td>[1, 0, 0, 0, 0, 0, 0, 0, 0, 0]</td>\n",
       "    </tr>\n",
       "    <tr>\n",
       "      <th>1</th>\n",
       "      <td>[0, 0, 0, 0, 0, 0, 0, 0, 0, 0, 1, 0, 0, 1, 0, ...</td>\n",
       "      <td>[1, 0, 0, 0, 0, 0, 0, 0, 0, 0]</td>\n",
       "    </tr>\n",
       "    <tr>\n",
       "      <th>2</th>\n",
       "      <td>[0, 0, 0, 0, 1, 0, 0, 0, 0, 0, 1, 0, 0, 1, 0, ...</td>\n",
       "      <td>[0, 1, 0, 0, 0, 0, 0, 0, 0, 0]</td>\n",
       "    </tr>\n",
       "    <tr>\n",
       "      <th>3</th>\n",
       "      <td>[0, 0, 0, 0, 1, 0, 0, 0, 0, 0, 1, 0, 0, 1, 0, ...</td>\n",
       "      <td>[0, 1, 0, 0, 0, 0, 0, 0, 0, 0]</td>\n",
       "    </tr>\n",
       "    <tr>\n",
       "      <th>4</th>\n",
       "      <td>[0, 0, 1, 0, 0, 0, 0, 0, 0, 0, 0, 0, 0, 0, 0, ...</td>\n",
       "      <td>[0, 0, 1, 0, 0, 0, 0, 0, 0, 0]</td>\n",
       "    </tr>\n",
       "    <tr>\n",
       "      <th>...</th>\n",
       "      <td>...</td>\n",
       "      <td>...</td>\n",
       "    </tr>\n",
       "    <tr>\n",
       "      <th>4827</th>\n",
       "      <td>[0, 0, 0, 0, 0, 0, 0, 0, 0, 0, 0, 0, 0, 0, 0, ...</td>\n",
       "      <td>[0, 0, 1, 0, 0, 0, 0, 0, 0, 0]</td>\n",
       "    </tr>\n",
       "    <tr>\n",
       "      <th>4828</th>\n",
       "      <td>[0, 0, 1, 0, 0, 0, 0, 0, 0, 0, 0, 0, 0, 0, 0, ...</td>\n",
       "      <td>[0, 0, 1, 0, 0, 0, 0, 0, 0, 0]</td>\n",
       "    </tr>\n",
       "    <tr>\n",
       "      <th>4829</th>\n",
       "      <td>[0, 0, 1, 0, 0, 0, 0, 0, 0, 0, 0, 0, 0, 0, 0, ...</td>\n",
       "      <td>[0, 0, 1, 0, 0, 0, 0, 0, 0, 0]</td>\n",
       "    </tr>\n",
       "    <tr>\n",
       "      <th>4830</th>\n",
       "      <td>[0, 0, 1, 0, 1, 0, 0, 0, 0, 0, 0, 0, 0, 0, 0, ...</td>\n",
       "      <td>[0, 0, 0, 0, 0, 1, 0, 0, 0, 0]</td>\n",
       "    </tr>\n",
       "    <tr>\n",
       "      <th>4831</th>\n",
       "      <td>[0, 0, 1, 0, 1, 0, 0, 0, 0, 0, 0, 0, 0, 0, 0, ...</td>\n",
       "      <td>[0, 0, 0, 0, 0, 1, 0, 0, 0, 0]</td>\n",
       "    </tr>\n",
       "  </tbody>\n",
       "</table>\n",
       "<p>4832 rows × 2 columns</p>\n",
       "</div>"
      ],
      "text/plain": [
       "                                            Fingerprint  \\\n",
       "0     [0, 0, 0, 0, 0, 0, 0, 0, 0, 0, 1, 0, 0, 1, 0, ...   \n",
       "1     [0, 0, 0, 0, 0, 0, 0, 0, 0, 0, 1, 0, 0, 1, 0, ...   \n",
       "2     [0, 0, 0, 0, 1, 0, 0, 0, 0, 0, 1, 0, 0, 1, 0, ...   \n",
       "3     [0, 0, 0, 0, 1, 0, 0, 0, 0, 0, 1, 0, 0, 1, 0, ...   \n",
       "4     [0, 0, 1, 0, 0, 0, 0, 0, 0, 0, 0, 0, 0, 0, 0, ...   \n",
       "...                                                 ...   \n",
       "4827  [0, 0, 0, 0, 0, 0, 0, 0, 0, 0, 0, 0, 0, 0, 0, ...   \n",
       "4828  [0, 0, 1, 0, 0, 0, 0, 0, 0, 0, 0, 0, 0, 0, 0, ...   \n",
       "4829  [0, 0, 1, 0, 0, 0, 0, 0, 0, 0, 0, 0, 0, 0, 0, ...   \n",
       "4830  [0, 0, 1, 0, 1, 0, 0, 0, 0, 0, 0, 0, 0, 0, 0, ...   \n",
       "4831  [0, 0, 1, 0, 1, 0, 0, 0, 0, 0, 0, 0, 0, 0, 0, ...   \n",
       "\n",
       "                            Activity  \n",
       "0     [1, 0, 0, 0, 0, 0, 0, 0, 0, 0]  \n",
       "1     [1, 0, 0, 0, 0, 0, 0, 0, 0, 0]  \n",
       "2     [0, 1, 0, 0, 0, 0, 0, 0, 0, 0]  \n",
       "3     [0, 1, 0, 0, 0, 0, 0, 0, 0, 0]  \n",
       "4     [0, 0, 1, 0, 0, 0, 0, 0, 0, 0]  \n",
       "...                              ...  \n",
       "4827  [0, 0, 1, 0, 0, 0, 0, 0, 0, 0]  \n",
       "4828  [0, 0, 1, 0, 0, 0, 0, 0, 0, 0]  \n",
       "4829  [0, 0, 1, 0, 0, 0, 0, 0, 0, 0]  \n",
       "4830  [0, 0, 0, 0, 0, 1, 0, 0, 0, 0]  \n",
       "4831  [0, 0, 0, 0, 0, 1, 0, 0, 0, 0]  \n",
       "\n",
       "[4832 rows x 2 columns]"
      ]
     },
     "metadata": {},
     "output_type": "display_data"
    }
   ],
   "source": [
    "data_set = data[[\"Fingerprint\",\"Activity\"]]\n",
    "display(data_set)"
   ]
  },
  {
   "cell_type": "markdown",
   "metadata": {},
   "source": [
    "This initial dataset is separated into a training set and a test set."
   ]
  },
  {
   "cell_type": "code",
   "execution_count": 16,
   "metadata": {},
   "outputs": [],
   "source": [
    "from sklearn.model_selection import train_test_split\n",
    "train, test = train_test_split(data_set)\n",
    "\n",
    "train_x = train[\"Fingerprint\"]\n",
    "test_x = test[\"Fingerprint\"]\n",
    "train_y = train[\"Activity\"]\n",
    "test_y = test[\"Activity\"]"
   ]
  },
  {
   "cell_type": "markdown",
   "metadata": {},
   "source": [
    "# Training the Model\n",
    "\n",
    "It is now time to train our Multi-Layer Perceptron (MLP) on the training data. We use the MLP model provided by the scikit learn module."
   ]
  },
  {
   "cell_type": "code",
   "execution_count": 17,
   "metadata": {},
   "outputs": [
    {
     "data": {
      "text/plain": [
       "MLPClassifier(alpha=1e-05, hidden_layer_sizes=(5, 2), random_state=1,\n",
       "              solver='lbfgs')"
      ]
     },
     "execution_count": 17,
     "metadata": {},
     "output_type": "execute_result"
    }
   ],
   "source": [
    "from sklearn.neural_network import MLPClassifier\n",
    "from rdkit.DataStructs.cDataStructs import BitVectToBinaryText\n",
    "import numpy as np\n",
    "X = [train_x.to_numpy()[i] for i in range(len(train_x))][0:2]\n",
    "y = [i for i in train_y][0:2]\n",
    "clf = MLPClassifier(solver='lbfgs', alpha=1e-5, hidden_layer_sizes=(5, 2), random_state=1)\n",
    "clf.fit(X, y)"
   ]
  },
  {
   "cell_type": "markdown",
   "metadata": {},
   "source": [
    "We can now use our trained model to make predictions on new molecules' activities."
   ]
  },
  {
   "cell_type": "code",
   "execution_count": 18,
   "metadata": {},
   "outputs": [],
   "source": [
    "t_x = test_x.to_numpy()[0]\n",
    "t_y = test_y.to_numpy()[0]\n",
    "result = clf.predict([t_x])"
   ]
  },
  {
   "cell_type": "code",
   "execution_count": 19,
   "metadata": {},
   "outputs": [
    {
     "name": "stdout",
     "output_type": "stream",
     "text": [
      "['Radioligand (/ligand)']\n"
     ]
    }
   ],
   "source": [
    "def vec_to_activity(vec):\n",
    "    out = []\n",
    "    for i in range(len(vec)):\n",
    "        if vec[i] == 1:\n",
    "            out.append(data.hasAgonistAntagonist.unique()[i])\n",
    "    return out\n",
    "\n",
    "print(vec_to_activity(result[0]))"
   ]
  },
  {
   "cell_type": "code",
   "execution_count": 20,
   "metadata": {},
   "outputs": [
    {
     "data": {
      "image/png": "[encoded data removed]",
      "text/plain": [
       "<rdkit.Chem.rdchem.Mol at 0x7fc6d524aa30>"
      ]
     },
     "execution_count": 20,
     "metadata": {},
     "output_type": "execute_result"
    }
   ],
   "source": [
    "gefitinib = 'COC1=C(C=C2C(=C1)N=CN=C2NC3=CC(=C(C=C3)F)Cl)OCCCN4CCOCC4'\n",
    "Chem.MolFromSmiles(gefitinib)"
   ]
  },
  {
   "cell_type": "code",
   "execution_count": 42,
   "metadata": {},
   "outputs": [
    {
     "name": "stdout",
     "output_type": "stream",
     "text": [
      "['Inhibitor']\n"
     ]
    }
   ],
   "source": [
    "result = clf.predict([my_mp])\n",
    "print(vec_to_activity(result[0]))"
   ]
  },
  {
   "cell_type": "code",
   "execution_count": null,
   "metadata": {},
   "outputs": [],
   "source": []
  }
 ],
 "metadata": {
  "kernelspec": {
   "display_name": "Python 3",
   "language": "python",
   "name": "python3"
  },
  "language_info": {
   "codemirror_mode": {
    "name": "ipython",
    "version": 3
   },
   "file_extension": ".py",
   "mimetype": "text/x-python",
   "name": "python",
   "nbconvert_exporter": "python",
   "pygments_lexer": "ipython3",
   "version": "3.8.5"
  }
 },
 "nbformat": 4,
 "nbformat_minor": 4
}
